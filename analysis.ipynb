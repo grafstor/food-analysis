{
 "cells": [
  {
   "cell_type": "markdown",
   "id": "d165b175-bf28-4b60-9bab-f8fd48975e54",
   "metadata": {},
   "source": [
    "<img src='https://github.com/grafstor/food-analysis/blob/main/media/penguin.gif?raw=true' align='center' width=\"200px\">"
   ]
  },
  {
   "cell_type": "markdown",
   "id": "renewable-reach",
   "metadata": {},
   "source": [
    "# Analysis of Food Products\n",
    "\n",
    "**Topic**: Analysis of food products from [Perekrestok](https://www.perekrestok.ru)\n",
    "\n",
    "**Main Goal**: To determine if there is a correlation between the product description, ingredients, and price."
   ]
  },
  {
   "cell_type": "code",
   "execution_count": 1,
   "id": "567624cb-f92b-408a-8ee1-301e9a72e871",
   "metadata": {},
   "outputs": [],
   "source": [
    "import re\n",
    "import pandas as pd\n",
    "import numpy as np\n",
    "import matplotlib.pyplot as plt\n",
    "import seaborn as sns\n",
    "from scipy import stats\n",
    "from sklearn.ensemble import IsolationForest\n",
    "\n",
    "import parcer"
   ]
  },
  {
   "cell_type": "markdown",
   "id": "three-alliance",
   "metadata": {},
   "source": [
    "## Data Collection"
   ]
  },
  {
   "cell_type": "markdown",
   "id": "bibliographic-outline",
   "metadata": {},
   "source": [
    "We will begin data collection from the [catalog page](https://www.perekrestok.ru/cat), gradually diving deeper.\n",
    "\n",
    "All parsing functions are located in `parcer.py`.\n",
    "\n",
    "**Step 1** \\\n",
    "Collect all product categories and their respective links."
   ]
  },
  {
   "cell_type": "code",
   "execution_count": 4,
   "id": "c1265c96-d70a-4fb1-9f63-3e150ae654a3",
   "metadata": {},
   "outputs": [
    {
     "data": {
      "text/plain": [
       "['Снова в школу', '/cat/mc/1269/snova-v-skolu']"
      ]
     },
     "execution_count": 4,
     "metadata": {},
     "output_type": "execute_result"
    }
   ],
   "source": [
    "cats = parcer.parce_cats(\"https://www.perekrestok.ru/cat\") # /ᐠ｡ꞈ｡ᐟ\\\n",
    "cats[0]"
   ]
  },
  {
   "cell_type": "markdown",
   "id": "d4a13437-e32d-4c07-b501-10b2b9f240eb",
   "metadata": {},
   "source": [
    "We'll remove categories that do not pertain to food products."
   ]
  },
  {
   "cell_type": "code",
   "execution_count": 8,
   "id": "ee49d1f2-73a1-484d-bab9-7ab10240fe78",
   "metadata": {},
   "outputs": [],
   "source": [
    "undesired_cats = [\n",
    "    'Все на дачу',\n",
    "    'Зоотовары',\n",
    "    'Для дома и дачи',\n",
    "    'Красота, гигиена, аптека',\n",
    "    'Уборка',\n",
    "    'Товары для мам и детей',\n",
    "    'Системы нагревания, табак',\n",
    "    'Посуда',\n",
    "]\n",
    "\n",
    "cats = [cat for cat in cats if cat[0] not in undesired_cats]"
   ]
  },
  {
   "cell_type": "markdown",
   "id": "1f992981-d579-4977-92a2-ce722d4da86e",
   "metadata": {},
   "source": [
    "**Step 2** \\\n",
    "Using the category links, collect subcategories and their respective links."
   ]
  },
  {
   "cell_type": "code",
   "execution_count": 10,
   "id": "d44dd84d-b647-4989-a419-863c06b1ecf1",
   "metadata": {},
   "outputs": [
    {
     "data": {
      "text/plain": [
       "('Зелёная Линия', 'От Перекрёстка', '/cat/c/284/zelenaa-linia')"
      ]
     },
     "execution_count": 10,
     "metadata": {},
     "output_type": "execute_result"
    }
   ],
   "source": [
    "subcats = parcer.parce_subcats(cats)\n",
    "subcats[0]"
   ]
  },
  {
   "cell_type": "markdown",
   "id": "572f1233-5f1f-4430-bb57-2fbf1517401a",
   "metadata": {},
   "source": [
    "\n",
    "We'll remove subcategories that do not pertain to food products.\n"
   ]
  },
  {
   "cell_type": "code",
   "execution_count": 11,
   "id": "0da3e1b5-5eef-4ed4-b83b-817428c58ccc",
   "metadata": {},
   "outputs": [],
   "source": [
    "undesired_subcats = [\n",
    "    'Home Story',\n",
    "    'Kokoro',\n",
    "    'Honey Kid',\n",
    "]\n",
    "\n",
    "subcats = [subcat for subcat in subcats if subcat[0] not in undesired_subcats]"
   ]
  },
  {
   "cell_type": "markdown",
   "id": "4cc8282f-4025-4792-8f25-4c3f5fd952eb",
   "metadata": {},
   "source": [
    "\n",
    "**Step 3** \\\n",
    "Now, using the subcategory links, we can gather all listings. Listings contain links to products as well as basic information."
   ]
  },
  {
   "cell_type": "code",
   "execution_count": 34,
   "id": "6fc0869e-5a99-4b7e-ae0e-d0a942b0161a",
   "metadata": {},
   "outputs": [
    {
     "data": {
      "text/plain": [
       "['Томаты черри на ветке, 250г',\n",
       " '/cat/150/p/tomaty-cerri-na-vetke-250g-3673307',\n",
       " 'От Перекрёстка',\n",
       " 'Маркет',\n",
       " '4.92',\n",
       " '250 гр',\n",
       " '179,99 ₽/шт',\n",
       " '179,99 ₽',\n",
       " '219,99 ₽',\n",
       " '-18%',\n",
       " '/cat/c/287/market']"
      ]
     },
     "execution_count": 34,
     "metadata": {},
     "output_type": "execute_result"
    }
   ],
   "source": [
    "listing_products = parcer.parce_listing_products(subcats)\n",
    "listing_products[0]"
   ]
  },
  {
   "cell_type": "code",
   "execution_count": 72,
   "id": "0d42ae2b-9a85-4ce0-b42f-2ee3d8b175cd",
   "metadata": {},
   "outputs": [
    {
     "name": "stdout",
     "output_type": "stream",
     "text": [
      "Список успешно сохранен в файл data/listing_products.csv\n"
     ]
    }
   ],
   "source": [
    "parcer.save_listing_products_to_csv('data/listing_products.csv', listing_products)"
   ]
  },
  {
   "cell_type": "markdown",
   "id": "4df33d8e-6593-41dc-a065-459e552760ca",
   "metadata": {},
   "source": [
    "\n",
    "**Step 4** \\\n",
    "Go through the links from the listings to obtain complete information about each product."
   ]
  },
  {
   "cell_type": "code",
   "execution_count": 75,
   "id": "8d24549a-9a72-4321-884e-88fe258eff4a",
   "metadata": {},
   "outputs": [
    {
     "data": {
      "text/plain": [
       "['/cat/150/p/tomaty-cerri-na-vetke-250g-3673307',\n",
       " 'Томаты черри на ветке, 250г',\n",
       " 17999,\n",
       " '-18%',\n",
       " 492,\n",
       " '15.0',\n",
       " '0.8 г',\n",
       " '0.1 г',\n",
       " '2.8 г',\n",
       " 'Томаты.',\n",
       " 'ТД Самарканд Агро',\n",
       " 'Маркет',\n",
       " 'Россия',\n",
       " '30 дней',\n",
       " '15 ℃',\n",
       " '5 ℃']"
      ]
     },
     "execution_count": 75,
     "metadata": {},
     "output_type": "execute_result"
    }
   ],
   "source": [
    "products = parcer.parce_products(listing_products)\n",
    "products[0]"
   ]
  },
  {
   "cell_type": "code",
   "execution_count": 67,
   "id": "7e729791-c92c-4ef7-b531-70d8f684f432",
   "metadata": {},
   "outputs": [
    {
     "name": "stdout",
     "output_type": "stream",
     "text": [
      "Список успешно сохранен в файл data/products.csv\n"
     ]
    }
   ],
   "source": [
    "parcer.save_products_to_csv('data/products.csv', products)"
   ]
  },
  {
   "cell_type": "markdown",
   "id": "3c00214b-1f65-48cf-a8b0-e9b07c451b28",
   "metadata": {},
   "source": [
    "**Result** \\\n",
    "In the files *listing_products.csv* and *products.csv*, we've collected information about all products in the relevant categories.\n",
    "\n",
    "*listing_products.csv* \\\n",
    "`name` - Product name \\\n",
    "`href` - Product link \\\n",
    "`rating` - Product rating from 0.00 to 5.00 \\\n",
    "`size` - Product weight in grams \\\n",
    "`price` - Product pricing (x/unit or x/kg) \\\n",
    "`new_price` - Product price \\\n",
    "`old_price` - Price without discount \\\n",
    "`discount` - Discount or special offer \\\n",
    "`subcat_href` - Subcategory link \\\n",
    "`cat` - Product category \\\n",
    "`subcat` - Product subcategory\n",
    "\n",
    "*products.csv* \\\n",
    "`title` - Product name \\\n",
    "`product_href` - Product link \\\n",
    "`price` - Product price \\\n",
    "`discount` - Discount or special offer \\\n",
    "`rating` - Product rating from 0.00 to 5.00 \\\n",
    "`kalories` - Calories per 100g \\\n",
    "`proteins` - Proteins per 100g \\\n",
    "`fats` - Fats per 100g \\\n",
    "`carbohydrates` - Carbohydrates per 100g \\\n",
    "`composition` - Product composition \\\n",
    "`manufacturer` - Manufacturer \\\n",
    "`brand` - Brand \\\n",
    "`country` - Country of origin \\\n",
    "`shelf_life` - Shelf life in days \\\n",
    "`max_storage_temperature` - Maximum storage temperature \\\n",
    "`min_storage_temperature` - Minimum storage temperature"
   ]
  },
  {
   "cell_type": "markdown",
   "id": "a0358566-09e5-4088-9e1f-0113b7526b42",
   "metadata": {},
   "source": [
    "## Preprocessing"
   ]
  },
  {
   "cell_type": "markdown",
   "id": "24ca821a-736d-456d-bbad-9f4a16c67ba7",
   "metadata": {},
   "source": [
    "\n",
    "**Step 1** \\\n",
    "Merge the collected data and remove unnecessary columns."
   ]
  },
  {
   "cell_type": "code",
   "execution_count": 2,
   "id": "14be7be0-7cf6-449c-97bc-aea25fac3987",
   "metadata": {},
   "outputs": [],
   "source": [
    "listing_products_df = pd.read_csv(\"data/listing_products.csv\")\n",
    "products_df = pd.read_csv(\"data/products.csv\")\n",
    "\n",
    "df = pd.merge(\n",
    "    products_df,\n",
    "    listing_products_df,\n",
    "    left_on=\"product_href\",\n",
    "    right_on=\"href\",\n",
    "    how=\"left\",\n",
    ")\n",
    "df = df.drop(\n",
    "    [\"price_x\", \"discount_x\", \"title\", \"product_href\", \"subcat_href\", \"rating_x\"],\n",
    "    axis=1,\n",
    ")"
   ]
  },
  {
   "cell_type": "markdown",
   "id": "77a59b38-2032-459f-a4ea-3613cdde10e1",
   "metadata": {},
   "source": [
    "\n",
    "Rename the columns after merging and sort the data."
   ]
  },
  {
   "cell_type": "code",
   "execution_count": 3,
   "id": "0721961f-c1e3-4e5f-847a-4e52c6027dad",
   "metadata": {},
   "outputs": [],
   "source": [
    "new_names = {\n",
    "    \"rating_y\": \"rating\",\n",
    "    \"price_y\": \"pricing\",\n",
    "    \"discount_y\": \"discount\",\n",
    "    \"new_price\": \"price\",\n",
    "    \"cat\": \"category\",\n",
    "    \"subcat\": \"subcategory\",\n",
    "}\n",
    "\n",
    "df = df.rename(columns=new_names)\n",
    "\n",
    "new_order = [\n",
    "    \"name\",\n",
    "    \"category\",\n",
    "    \"subcategory\",\n",
    "    \"href\",\n",
    "    \"kalories\",\n",
    "    \"proteins\",\n",
    "    \"fats\",\n",
    "    \"carbohydrates\",\n",
    "    \"composition\",\n",
    "    \"manufacturer\",\n",
    "    \"brand\",\n",
    "    \"country\",\n",
    "    \"rating\",\n",
    "    \"size\",\n",
    "    \"pricing\",\n",
    "    \"price\",\n",
    "    \"old_price\",\n",
    "    \"discount\",\n",
    "    \"shelf_life\",\n",
    "    \"max_storage_temperature\",\n",
    "    \"min_storage_temperature\",\n",
    "]\n",
    "\n",
    "df = df.reindex(columns=new_order)"
   ]
  },
  {
   "cell_type": "markdown",
   "id": "a95f06d4-ec97-466c-a69c-91536e69e12a",
   "metadata": {},
   "source": [
    "\n",
    "In some categories, products were duplicated, so we'll fix that."
   ]
  },
  {
   "cell_type": "code",
   "execution_count": 4,
   "id": "2a3c16e2-2a0d-46a7-af8c-67047255d89e",
   "metadata": {},
   "outputs": [
    {
     "data": {
      "text/html": [
       "<div>\n",
       "<style scoped>\n",
       "    .dataframe tbody tr th:only-of-type {\n",
       "        vertical-align: middle;\n",
       "    }\n",
       "\n",
       "    .dataframe tbody tr th {\n",
       "        vertical-align: top;\n",
       "    }\n",
       "\n",
       "    .dataframe thead th {\n",
       "        text-align: right;\n",
       "    }\n",
       "</style>\n",
       "<table border=\"1\" class=\"dataframe\">\n",
       "  <thead>\n",
       "    <tr style=\"text-align: right;\">\n",
       "      <th></th>\n",
       "      <th>name</th>\n",
       "      <th>category</th>\n",
       "      <th>subcategory</th>\n",
       "      <th>kalories</th>\n",
       "      <th>proteins</th>\n",
       "      <th>fats</th>\n",
       "      <th>carbohydrates</th>\n",
       "      <th>composition</th>\n",
       "      <th>manufacturer</th>\n",
       "      <th>brand</th>\n",
       "      <th>country</th>\n",
       "      <th>rating</th>\n",
       "      <th>size</th>\n",
       "      <th>pricing</th>\n",
       "      <th>price</th>\n",
       "      <th>old_price</th>\n",
       "      <th>discount</th>\n",
       "      <th>shelf_life</th>\n",
       "      <th>max_storage_temperature</th>\n",
       "      <th>min_storage_temperature</th>\n",
       "    </tr>\n",
       "  </thead>\n",
       "  <tbody>\n",
       "    <tr>\n",
       "      <th>0</th>\n",
       "      <td>Вино Мысхако Quintessence Zinfandel красное по...</td>\n",
       "      <td>Алкогольные напитки</td>\n",
       "      <td>Вино</td>\n",
       "      <td>95.0</td>\n",
       "      <td>0.0 г</td>\n",
       "      <td>0.0 г</td>\n",
       "      <td>0.6 г</td>\n",
       "      <td>Виноград сорта Зинфандель, пищевая добавка (ко...</td>\n",
       "      <td>Мысхако</td>\n",
       "      <td>Мысхако</td>\n",
       "      <td>Россия</td>\n",
       "      <td>4.89</td>\n",
       "      <td>750 мл</td>\n",
       "      <td>899,99 ₽/шт</td>\n",
       "      <td>899,99 ₽</td>\n",
       "      <td>899,99 ₽</td>\n",
       "      <td>3 по цене 2-х</td>\n",
       "      <td>9999 дней</td>\n",
       "      <td>20 ℃</td>\n",
       "      <td>5 ℃</td>\n",
       "    </tr>\n",
       "    <tr>\n",
       "      <th>1</th>\n",
       "      <td>Вино Takar Арени красное сухое 14%, 750мл</td>\n",
       "      <td>Алкогольные напитки</td>\n",
       "      <td>Вино</td>\n",
       "      <td>74.0</td>\n",
       "      <td>0.0 г</td>\n",
       "      <td>0.0 г</td>\n",
       "      <td>0.3 г</td>\n",
       "      <td>Виноград сорта Арени; пищевая добавка (консерв...</td>\n",
       "      <td>Armenia Wine</td>\n",
       "      <td>Takar</td>\n",
       "      <td>Армения</td>\n",
       "      <td>4.90</td>\n",
       "      <td>750 мл</td>\n",
       "      <td>699,99 ₽/шт</td>\n",
       "      <td>699,99 ₽</td>\n",
       "      <td>899,99 ₽</td>\n",
       "      <td>-22%</td>\n",
       "      <td>9999 дней</td>\n",
       "      <td>NaN</td>\n",
       "      <td>5 ℃</td>\n",
       "    </tr>\n",
       "    <tr>\n",
       "      <th>2</th>\n",
       "      <td>Вино Terras de Pegoes красное сухое 12.5%, 750мл</td>\n",
       "      <td>Алкогольные напитки</td>\n",
       "      <td>Вино</td>\n",
       "      <td>75.0</td>\n",
       "      <td>0.0 г</td>\n",
       "      <td>0.0 г</td>\n",
       "      <td>0.1 г</td>\n",
       "      <td>Сортовой состав винограда: Каштелао - 60%, Али...</td>\n",
       "      <td>Cooperativa Agrícola de Santo Isidro De Pegões</td>\n",
       "      <td>Pegoes</td>\n",
       "      <td>Португалия</td>\n",
       "      <td>4.78</td>\n",
       "      <td>750 мл</td>\n",
       "      <td>499,99 ₽/шт</td>\n",
       "      <td>499,99 ₽</td>\n",
       "      <td>699,99 ₽</td>\n",
       "      <td>-28%</td>\n",
       "      <td>9999 дней</td>\n",
       "      <td>NaN</td>\n",
       "      <td>NaN</td>\n",
       "    </tr>\n",
       "    <tr>\n",
       "      <th>3</th>\n",
       "      <td>Вино Highway to Hell красное сухое 13%, 750мл</td>\n",
       "      <td>Алкогольные напитки</td>\n",
       "      <td>Вино</td>\n",
       "      <td>79.0</td>\n",
       "      <td>0.0 г</td>\n",
       "      <td>0.0 г</td>\n",
       "      <td>0.0 г</td>\n",
       "      <td>Виноград сорта Монастрель, пищевая добавка (ко...</td>\n",
       "      <td>Wines N'Roses</td>\n",
       "      <td>Highway to Hell</td>\n",
       "      <td>Испания</td>\n",
       "      <td>4.81</td>\n",
       "      <td>750 мл</td>\n",
       "      <td>1 099,00 ₽/шт</td>\n",
       "      <td>1 099,00 ₽</td>\n",
       "      <td>NaN</td>\n",
       "      <td>Нет скидки</td>\n",
       "      <td>9999 дней</td>\n",
       "      <td>NaN</td>\n",
       "      <td>5 ℃</td>\n",
       "    </tr>\n",
       "    <tr>\n",
       "      <th>4</th>\n",
       "      <td>Вино Don Garcia красное сухое 11%, 1л</td>\n",
       "      <td>Алкогольные напитки</td>\n",
       "      <td>Вино</td>\n",
       "      <td>0.0</td>\n",
       "      <td>0.0 г</td>\n",
       "      <td>0.0 г</td>\n",
       "      <td>0.0 г</td>\n",
       "      <td>Красные сорта винограда, пищевая добавка (конс...</td>\n",
       "      <td>J. Garcia Carrion</td>\n",
       "      <td>Don Garcia</td>\n",
       "      <td>Испания</td>\n",
       "      <td>4.75</td>\n",
       "      <td>1000 мл</td>\n",
       "      <td>549,99 ₽/шт</td>\n",
       "      <td>549,99 ₽</td>\n",
       "      <td>NaN</td>\n",
       "      <td>Нет скидки</td>\n",
       "      <td>9999 дней</td>\n",
       "      <td>20 ℃</td>\n",
       "      <td>5 ℃</td>\n",
       "    </tr>\n",
       "  </tbody>\n",
       "</table>\n",
       "</div>"
      ],
      "text/plain": [
       "                                                name             category  \\\n",
       "0  Вино Мысхако Quintessence Zinfandel красное по...  Алкогольные напитки   \n",
       "1          Вино Takar Арени красное сухое 14%, 750мл  Алкогольные напитки   \n",
       "2   Вино Terras de Pegoes красное сухое 12.5%, 750мл  Алкогольные напитки   \n",
       "3      Вино Highway to Hell красное сухое 13%, 750мл  Алкогольные напитки   \n",
       "4              Вино Don Garcia красное сухое 11%, 1л  Алкогольные напитки   \n",
       "\n",
       "  subcategory  kalories proteins   fats carbohydrates  \\\n",
       "0        Вино      95.0    0.0 г  0.0 г         0.6 г   \n",
       "1        Вино      74.0    0.0 г  0.0 г         0.3 г   \n",
       "2        Вино      75.0    0.0 г  0.0 г         0.1 г   \n",
       "3        Вино      79.0    0.0 г  0.0 г         0.0 г   \n",
       "4        Вино       0.0    0.0 г  0.0 г         0.0 г   \n",
       "\n",
       "                                         composition  \\\n",
       "0  Виноград сорта Зинфандель, пищевая добавка (ко...   \n",
       "1  Виноград сорта Арени; пищевая добавка (консерв...   \n",
       "2  Сортовой состав винограда: Каштелао - 60%, Али...   \n",
       "3  Виноград сорта Монастрель, пищевая добавка (ко...   \n",
       "4  Красные сорта винограда, пищевая добавка (конс...   \n",
       "\n",
       "                                     manufacturer            brand  \\\n",
       "0                                         Мысхако          Мысхако   \n",
       "1                                    Armenia Wine            Takar   \n",
       "2  Cooperativa Agrícola de Santo Isidro De Pegões           Pegoes   \n",
       "3                                   Wines N'Roses  Highway to Hell   \n",
       "4                               J. Garcia Carrion       Don Garcia   \n",
       "\n",
       "      country  rating     size        pricing       price old_price  \\\n",
       "0      Россия    4.89   750 мл    899,99 ₽/шт    899,99 ₽  899,99 ₽   \n",
       "1     Армения    4.90   750 мл    699,99 ₽/шт    699,99 ₽  899,99 ₽   \n",
       "2  Португалия    4.78   750 мл    499,99 ₽/шт    499,99 ₽  699,99 ₽   \n",
       "3     Испания    4.81   750 мл  1 099,00 ₽/шт  1 099,00 ₽       NaN   \n",
       "4     Испания    4.75  1000 мл    549,99 ₽/шт    549,99 ₽       NaN   \n",
       "\n",
       "        discount shelf_life max_storage_temperature min_storage_temperature  \n",
       "0  3 по цене 2-х  9999 дней                    20 ℃                     5 ℃  \n",
       "1           -22%  9999 дней                     NaN                     5 ℃  \n",
       "2           -28%  9999 дней                     NaN                     NaN  \n",
       "3     Нет скидки  9999 дней                     NaN                     5 ℃  \n",
       "4     Нет скидки  9999 дней                    20 ℃                     5 ℃  "
      ]
     },
     "execution_count": 4,
     "metadata": {},
     "output_type": "execute_result"
    }
   ],
   "source": [
    "df.drop_duplicates(inplace=True, subset=['href', 'name'])\n",
    "df.dropna(subset=['href'], inplace=True)\n",
    "df = df.drop(['href'], axis=1) # Удаляем больше не нужную колонку\n",
    "df = df.reset_index(drop=True)\n",
    "df.head()"
   ]
  },
  {
   "cell_type": "markdown",
   "id": "f8d6d67b-527d-4fd6-9110-e22f4e5770d8",
   "metadata": {},
   "source": [
    "\n",
    "**Step 2** \\\n",
    "Check for missing values in the dataset."
   ]
  },
  {
   "cell_type": "code",
   "execution_count": 5,
   "id": "01a446f6-7577-4ea8-a8ba-d2e717ace6f0",
   "metadata": {},
   "outputs": [
    {
     "data": {
      "text/plain": [
       "name                          0\n",
       "category                      0\n",
       "subcategory                   0\n",
       "kalories                    267\n",
       "proteins                    308\n",
       "fats                        308\n",
       "carbohydrates               313\n",
       "composition                 332\n",
       "manufacturer                398\n",
       "brand                       532\n",
       "country                     238\n",
       "rating                        0\n",
       "size                        692\n",
       "pricing                       0\n",
       "price                         0\n",
       "old_price                  8989\n",
       "discount                      0\n",
       "shelf_life                    0\n",
       "max_storage_temperature    3777\n",
       "min_storage_temperature    4627\n",
       "dtype: int64"
      ]
     },
     "execution_count": 5,
     "metadata": {},
     "output_type": "execute_result"
    }
   ],
   "source": [
    "df.isnull().sum()"
   ]
  },
  {
   "cell_type": "markdown",
   "id": "972baa50-63c9-4d7f-a658-d9d10640bfe1",
   "metadata": {},
   "source": [
    "\n",
    "Remove non-food items that were included in the dataset due to mixed categories. \\\n",
    "To do this, identify all products with missing `kalories` and exclude non-food items from them."
   ]
  },
  {
   "cell_type": "code",
   "execution_count": 6,
   "id": "295c8b83-e569-4ee9-9919-5b8f2ca62779",
   "metadata": {},
   "outputs": [
    {
     "data": {
      "text/plain": [
       "name           Губка Волна для обуви и изделий из кожи бесцве...\n",
       "subcategory                                               Маркет\n",
       "Name: 6154, dtype: object"
      ]
     },
     "execution_count": 6,
     "metadata": {},
     "output_type": "execute_result"
    }
   ],
   "source": [
    "non_food_ids = (df[\"kalories\"].isnull()) & (\n",
    "    ~df[\"subcategory\"].isin(\n",
    "        [\n",
    "            \"Кофе\",\n",
    "            \"Чай\",\n",
    "            \"Специи, приправы и пряности\",\n",
    "            \"Соль\",\n",
    "            \"Вся рыба\",\n",
    "            \"Охлаждённая рыба\",\n",
    "            \"Копчёная рыба\",\n",
    "            \"Вяленая рыба\",\n",
    "            \"Вода\",\n",
    "            \"Пиво\",\n",
    "            \"Конфеты\",\n",
    "            \"Компоненты для выпечки\",\n",
    "            \"Молочные коктейли\",\n",
    "            \"Полуфабрикаты\",\n",
    "            \"Овощи\",\n",
    "            \"Фрукты\",\n",
    "            \"Зелень и салаты\",\n",
    "            \"Коньяк\",\n",
    "        ]\n",
    "    )\n",
    ")\n",
    "\n",
    "non_food = df[non_food_ids][[\"name\", \"subcategory\"]]\n",
    "df = df[~non_food_ids]\n",
    "\n",
    "non_food.iloc[5]"
   ]
  },
  {
   "cell_type": "markdown",
   "id": "90f43b00-e261-4323-ae74-574da8e5c64b",
   "metadata": {},
   "source": [
    "\n",
    "Fill all other missing `kalories` with zeros."
   ]
  },
  {
   "cell_type": "code",
   "execution_count": 7,
   "id": "dc11709f-f11e-4361-b36a-2bd8c12c6d22",
   "metadata": {},
   "outputs": [],
   "source": [
    "df.loc[df['kalories'].isnull(), 'kalories'] = 0"
   ]
  },
  {
   "cell_type": "markdown",
   "id": "223893ec-9f99-4ef2-9dbc-fe70ddb12ffc",
   "metadata": {},
   "source": [
    "\n",
    "**Step 3** \\\n",
    "Convert `proteins`, `fats`, and `carbohydrates` to float type and fill missing values with zeros."
   ]
  },
  {
   "cell_type": "code",
   "execution_count": 8,
   "id": "86c200a6-f348-4abc-8d1d-b7933d351a9f",
   "metadata": {},
   "outputs": [],
   "source": [
    "df.loc[:, 'proteins'] = df['proteins'].str.replace(' г', '').astype(float)\n",
    "df.loc[:, 'fats'] = df['fats'].str.replace(' г', '').astype(float)\n",
    "df.loc[:, 'carbohydrates'] = df['carbohydrates'].str.replace(' г', '').astype(float)\n",
    "\n",
    "df.loc[df['proteins'].isnull(), 'proteins'] = 0\n",
    "df.loc[df['fats'].isnull(), 'fats'] = 0\n",
    "df.loc[df['carbohydrates'].isnull(), 'carbohydrates'] = 0"
   ]
  },
  {
   "cell_type": "markdown",
   "id": "214005f0-ade1-4cfa-8e7b-5ee823ffbc53",
   "metadata": {},
   "source": [
    "\n",
    "**Step 4** \\\n",
    "Since we don't have information on the average density of all beverages, implicitly equate **ml** to **grams** in the `size` column and convert it to float."
   ]
  },
  {
   "cell_type": "code",
   "execution_count": 9,
   "id": "f258e396-a2bb-43cf-bdba-138ece56a0b9",
   "metadata": {},
   "outputs": [],
   "source": [
    "df.loc[:, \"size\"] = (\n",
    "    df[\"size\"]\n",
    "    .str.replace(\" гр\", \"\")\n",
    "    .str.replace(\" мл\", \"\")\n",
    "    .str.replace(\" \", \"\")\n",
    "    .astype(float)\n",
    ")"
   ]
  },
  {
   "cell_type": "markdown",
   "id": "1cf00284-162a-46d4-a36c-78b5147454ed",
   "metadata": {},
   "source": [
    "\n",
    "For bulk products 🥒, the `pricing` is listed per **kg** instead of **unit**, so the `size` in these rows is empty. \\\n",
    "Fill these missing values as 1000 grams, and also create a **new feature** called `is_by_weight` to indicate whether the product is sold by weight.\n",
    "<a id='is_by_weight'></a>"
   ]
  },
  {
   "cell_type": "code",
   "execution_count": 10,
   "id": "4599a1fb-1467-44e4-8586-369b1bbcf65f",
   "metadata": {},
   "outputs": [
    {
     "data": {
      "text/plain": [
       "array(['шт', 'кг'], dtype=object)"
      ]
     },
     "execution_count": 10,
     "metadata": {},
     "output_type": "execute_result"
    }
   ],
   "source": [
    "pricing_units = df[\"pricing\"].str.split(\"/\").str[1]\n",
    "pricing_units.unique()"
   ]
  },
  {
   "cell_type": "code",
   "execution_count": 11,
   "id": "5c4db016-a768-42ef-bb46-7ae12f3834b5",
   "metadata": {},
   "outputs": [],
   "source": [
    "df.loc[pricing_units == \"кг\", \"size\"] = 1000\n",
    "df[\"is_by_weight\"] = 1 * (pricing_units == \"кг\")"
   ]
  },
  {
   "cell_type": "markdown",
   "id": "d4f2d2bc-7fb3-4e16-98de-62d120f6c171",
   "metadata": {},
   "source": [
    "\n",
    "Afterward, `pricing` will no longer be needed, as we have `price`."
   ]
  },
  {
   "cell_type": "code",
   "execution_count": 12,
   "id": "8a4d98ee-667a-4ec3-a9a7-6290445690c9",
   "metadata": {},
   "outputs": [],
   "source": [
    "df = df.drop(['pricing'], axis=1) "
   ]
  },
  {
   "cell_type": "markdown",
   "id": "9d7c82e5-6e5b-496a-967b-2ebd5d239f0f",
   "metadata": {},
   "source": [
    "\n",
    "Format `price` and `old_price`."
   ]
  },
  {
   "cell_type": "code",
   "execution_count": 13,
   "id": "33ed5e52-be59-406a-b536-084db1220f32",
   "metadata": {},
   "outputs": [],
   "source": [
    "df.loc[:, \"price\"] = (\n",
    "    df[\"price\"]\n",
    "    .str.replace(\" ₽\", \"\")\n",
    "    .str.replace(\",\", \".\")\n",
    "    .str.replace(\" \", \"\")\n",
    "    .astype(float)\n",
    ")\n",
    "df.loc[:, \"old_price\"] = (\n",
    "    df[\"old_price\"]\n",
    "    .str.replace(\" ₽\", \"\")\n",
    "    .str.replace(\",\", \".\")\n",
    "    .str.replace(\" \", \"\")\n",
    "    .astype(float)\n",
    ")"
   ]
  },
  {
   "cell_type": "markdown",
   "id": "4fa28884-2bcd-4e99-b47a-f5b119924ba8",
   "metadata": {},
   "source": [
    "\n",
    "For products without discounts, the `old_price` attribute is missing, so we'll set it equal to `price`."
   ]
  },
  {
   "cell_type": "code",
   "execution_count": 14,
   "id": "036abf32-9136-4bfd-9e80-17e091e605da",
   "metadata": {},
   "outputs": [],
   "source": [
    "null_old_prices = df['old_price'].isnull()\n",
    "df.loc[null_old_prices, 'old_price'] = df[null_old_prices]['price']"
   ]
  },
  {
   "cell_type": "markdown",
   "id": "22021364-12ef-46f9-9e67-e73f09b8e392",
   "metadata": {},
   "source": [
    "\n",
    "**Step 5** \\\n",
    "Convert the discount to float, and for special offers, create a **new feature** called `is_special_offer`.\n",
    "<a id='is_special_offer'></a>\n"
   ]
  },
  {
   "cell_type": "code",
   "execution_count": 15,
   "id": "9186ff97-8485-4327-a396-4fbeb3c18dff",
   "metadata": {},
   "outputs": [
    {
     "data": {
      "text/plain": [
       "array(['3 по цене 2-х', '-22%', '-28%', 'Нет скидки', '-25%', '-33%',\n",
       "       '-16%', '-18%', '-41%', '-17%', '-26%', '-43%', '-15%', '-19%',\n",
       "       '-31%', '-23%', '-44%', '-57%', '-36%', '-37%', '-40%', '-30%',\n",
       "       '-24%', '-47%', '-55%', '-27%', '-21%', '-49%', '-14%', '-45%',\n",
       "       '-11%', '-56%', '-48%', 'Новинка', '-20%', '-32%', '-52%', '-38%',\n",
       "       '-50%', '-29%', '-13%', '-10%', '-39%', '-35%', '-46%', '-12%',\n",
       "       'Низкая цена', '-58%', '-34%', '-54%', '-42%', '-65%', '-62%',\n",
       "       '-59%', '-53%', '-63%', '-70%', '-51%', '5 по цене 4-х',\n",
       "       '2 по цене 1-го', '-60%', '4 по цене 3-х', '-77%'], dtype=object)"
      ]
     },
     "execution_count": 15,
     "metadata": {},
     "output_type": "execute_result"
    }
   ],
   "source": [
    "df['discount'].unique()"
   ]
  },
  {
   "cell_type": "code",
   "execution_count": 16,
   "id": "736f55ad-ad12-4a16-97f2-1a5da95bc52d",
   "metadata": {},
   "outputs": [],
   "source": [
    "is_special_offer = df[\"discount\"].isin(\n",
    "    [\n",
    "        \"3 по цене 2-х\",\n",
    "        \"Новинка\",\n",
    "        \"Низкая цена\",\n",
    "        \"5 по цене 4-х\",\n",
    "        \"2 по цене 1-го\",\n",
    "        \"4 по цене 3-х\",\n",
    "    ]\n",
    ")\n",
    "\n",
    "is_no_discount = df[\"discount\"].isin([\"Нет скидки\"])\n",
    "\n",
    "df.loc[:, \"discount\"] = df[\"discount\"].str.replace(\"-\", \"\").str.replace(\"%\", \"\")\n",
    "df.loc[is_special_offer + is_no_discount, \"discount\"] = 0\n",
    "df.loc[:, \"discount\"] = df[\"discount\"].astype(float)\n",
    "\n",
    "df[\"is_special_offer\"] = is_special_offer"
   ]
  },
  {
   "cell_type": "markdown",
   "id": "a238f43a-265f-4ccf-8331-a51936aad25d",
   "metadata": {},
   "source": [
    "\n",
    "**Step 6** \\\n",
    "Convert `shelf_life`, `max_storage_temperature`, and `min_storage_temperature` to float type."
   ]
  },
  {
   "cell_type": "code",
   "execution_count": 17,
   "id": "1567d908-e808-4bcc-b699-4e6fdbf779ee",
   "metadata": {},
   "outputs": [],
   "source": [
    "df.loc[:, \"shelf_life\"] = (\n",
    "    df[\"shelf_life\"]\n",
    "    .str.replace(\" дней\", \"\")\n",
    "    .str.replace(\" день\", \"\")\n",
    "    .str.replace(\" дня\", \"\")\n",
    "    .astype(float)\n",
    ")\n",
    "df.loc[:, \"max_storage_temperature\"] = (\n",
    "    df[\"max_storage_temperature\"].str.replace(\" ℃\", \"\").astype(float)\n",
    ")\n",
    "df.loc[:, \"min_storage_temperature\"] = (\n",
    "    df[\"min_storage_temperature\"].str.replace(\" ℃\", \"\").astype(float)\n",
    ")"
   ]
  },
  {
   "cell_type": "markdown",
   "id": "e91735f7-6bf6-41e1-88c3-c7344d3646b0",
   "metadata": {},
   "source": [
    "For some products, the maximum and minimum storage temperature values are swapped, so we'll correct that."
   ]
  },
  {
   "cell_type": "code",
   "execution_count": 18,
   "id": "80528c28-7eec-4654-9860-a3eb6cc18b0e",
   "metadata": {},
   "outputs": [],
   "source": [
    "mis_tems = df['max_storage_temperature'] < df['min_storage_temperature']\n",
    "\n",
    "df.loc[mis_tems, ['max_storage_temperature', 'min_storage_temperature']] = \\\n",
    "    df.loc[mis_tems, ['min_storage_temperature', 'max_storage_temperature']].values"
   ]
  },
  {
   "cell_type": "markdown",
   "id": "c9a4baab-3da9-4711-b891-d536daed9b97",
   "metadata": {},
   "source": [
    "\n",
    "We'll treat missing values as an indication of unlimited storage temperature. \\\n",
    "Fill missing `max_storage_temperature` with the maximum value (excluding the single outlier 🍾 at 9999) and `min_storage_temperature` with the minimum value.\n"
   ]
  },
  {
   "cell_type": "code",
   "execution_count": 19,
   "id": "8746b123-1ef1-4a22-b6b5-778b6fe91f8d",
   "metadata": {},
   "outputs": [
    {
     "data": {
      "text/plain": [
       "[40.0, 50.0, 9999.0]"
      ]
     },
     "execution_count": 19,
     "metadata": {},
     "output_type": "execute_result"
    }
   ],
   "source": [
    "sorted(df['max_storage_temperature'].dropna().unique())[-3:]"
   ]
  },
  {
   "cell_type": "code",
   "execution_count": 20,
   "id": "780a8cf6-bd86-47eb-ac1b-1095521b7933",
   "metadata": {},
   "outputs": [
    {
     "data": {
      "text/plain": [
       "[-40.0, -30.0, -26.0]"
      ]
     },
     "execution_count": 20,
     "metadata": {},
     "output_type": "execute_result"
    }
   ],
   "source": [
    "sorted(df['min_storage_temperature'].dropna().unique())[:3]"
   ]
  },
  {
   "cell_type": "code",
   "execution_count": 21,
   "id": "72155c91-d86a-4fa9-85cb-6b58fdbae530",
   "metadata": {},
   "outputs": [
    {
     "data": {
      "text/html": [
       "<div>\n",
       "<style scoped>\n",
       "    .dataframe tbody tr th:only-of-type {\n",
       "        vertical-align: middle;\n",
       "    }\n",
       "\n",
       "    .dataframe tbody tr th {\n",
       "        vertical-align: top;\n",
       "    }\n",
       "\n",
       "    .dataframe thead th {\n",
       "        text-align: right;\n",
       "    }\n",
       "</style>\n",
       "<table border=\"1\" class=\"dataframe\">\n",
       "  <thead>\n",
       "    <tr style=\"text-align: right;\">\n",
       "      <th></th>\n",
       "      <th>name</th>\n",
       "      <th>category</th>\n",
       "      <th>subcategory</th>\n",
       "      <th>kalories</th>\n",
       "      <th>proteins</th>\n",
       "      <th>fats</th>\n",
       "      <th>carbohydrates</th>\n",
       "      <th>composition</th>\n",
       "      <th>manufacturer</th>\n",
       "      <th>brand</th>\n",
       "      <th>...</th>\n",
       "      <th>rating</th>\n",
       "      <th>size</th>\n",
       "      <th>price</th>\n",
       "      <th>old_price</th>\n",
       "      <th>discount</th>\n",
       "      <th>shelf_life</th>\n",
       "      <th>max_storage_temperature</th>\n",
       "      <th>min_storage_temperature</th>\n",
       "      <th>is_by_weight</th>\n",
       "      <th>is_special_offer</th>\n",
       "    </tr>\n",
       "  </thead>\n",
       "  <tbody>\n",
       "    <tr>\n",
       "      <th>4531</th>\n",
       "      <td>Коньяк Старая Площадь КВ выдержанный 40%, 500мл</td>\n",
       "      <td>Алкогольные напитки</td>\n",
       "      <td>Коньяк</td>\n",
       "      <td>230.0</td>\n",
       "      <td>0.0</td>\n",
       "      <td>0.0</td>\n",
       "      <td>1.2</td>\n",
       "      <td>Дистилляты коньячные выдержанные не менее  сем...</td>\n",
       "      <td>Мосазервинзавод</td>\n",
       "      <td>СТАРАЯ ПЛОЩАДЬ</td>\n",
       "      <td>...</td>\n",
       "      <td>0.0</td>\n",
       "      <td>500.0</td>\n",
       "      <td>779.99</td>\n",
       "      <td>779.99</td>\n",
       "      <td>0.0</td>\n",
       "      <td>9999.0</td>\n",
       "      <td>9999.0</td>\n",
       "      <td>5.0</td>\n",
       "      <td>0</td>\n",
       "      <td>False</td>\n",
       "    </tr>\n",
       "  </tbody>\n",
       "</table>\n",
       "<p>1 rows × 21 columns</p>\n",
       "</div>"
      ],
      "text/plain": [
       "                                                 name             category  \\\n",
       "4531  Коньяк Старая Площадь КВ выдержанный 40%, 500мл  Алкогольные напитки   \n",
       "\n",
       "     subcategory  kalories proteins fats carbohydrates  \\\n",
       "4531      Коньяк     230.0      0.0  0.0           1.2   \n",
       "\n",
       "                                            composition     manufacturer  \\\n",
       "4531  Дистилляты коньячные выдержанные не менее  сем...  Мосазервинзавод   \n",
       "\n",
       "               brand  ... rating   size   price old_price discount shelf_life  \\\n",
       "4531  СТАРАЯ ПЛОЩАДЬ  ...    0.0  500.0  779.99    779.99      0.0     9999.0   \n",
       "\n",
       "     max_storage_temperature min_storage_temperature is_by_weight  \\\n",
       "4531                  9999.0                     5.0            0   \n",
       "\n",
       "      is_special_offer  \n",
       "4531             False  \n",
       "\n",
       "[1 rows x 21 columns]"
      ]
     },
     "execution_count": 21,
     "metadata": {},
     "output_type": "execute_result"
    }
   ],
   "source": [
    "df[df['max_storage_temperature'] == 9999]"
   ]
  },
  {
   "cell_type": "code",
   "execution_count": 22,
   "id": "810dac6b-467f-4262-bd09-ddfd65ccf71e",
   "metadata": {},
   "outputs": [],
   "source": [
    "max_mask = (df['max_storage_temperature'] == 9999) + df['max_storage_temperature'].isnull()\n",
    "df.loc[max_mask, 'max_storage_temperature'] = 50.0\n",
    "\n",
    "min_mask = df['min_storage_temperature'].isnull()\n",
    "df.loc[min_mask, 'min_storage_temperature'] = -40.0"
   ]
  },
  {
   "cell_type": "markdown",
   "id": "9f1d2b41-6f69-49fd-b46e-a8c14d8f32ef",
   "metadata": {},
   "source": [
    "\n",
    "**Step 7** \\\n",
    "Fill missing values in `manufacturer`, `brand`, and `country` with \"Unknown\".\n"
   ]
  },
  {
   "cell_type": "code",
   "execution_count": 23,
   "id": "68917962-5904-4b87-9ca7-61c358e9b87a",
   "metadata": {},
   "outputs": [],
   "source": [
    "df['manufacturer'] = df['manufacturer'].fillna('Unknown')\n",
    "df['brand'] = df['brand'].fillna('Unknown')\n",
    "df['country'] = df['country'].fillna('Unknown')"
   ]
  },
  {
   "cell_type": "markdown",
   "id": "3cbf08e3-4d6d-4e48-9bd8-eec367241feb",
   "metadata": {},
   "source": [
    "\n",
    "**Step 8** \\\n",
    "For some products, the composition is missing or consists of placeholders like \".\" or \"/\". We'll fill these as \"Unknown\".\n"
   ]
  },
  {
   "cell_type": "code",
   "execution_count": 24,
   "id": "2a17b0ec-1b04-4cff-ac0b-6c1e61b0f659",
   "metadata": {},
   "outputs": [],
   "source": [
    "df['composition'] = df['composition'].fillna('Unknown')\n",
    "df.loc[df['composition'] == \".\", 'composition'] = 'Unknown'\n",
    "df.loc[df['composition'] == \"/\", 'composition'] = 'Unknown'"
   ]
  },
  {
   "cell_type": "markdown",
   "id": "2e076a89-2a0f-4d38-bbaf-593b8e5222b8",
   "metadata": {},
   "source": [
    "\n",
    "Update the column types in the dataframe and check for any remaining missing values.\n"
   ]
  },
  {
   "cell_type": "code",
   "execution_count": 25,
   "id": "6e3220f5-711a-4a35-8041-83c96e53dc31",
   "metadata": {},
   "outputs": [
    {
     "data": {
      "text/plain": [
       "name                       0\n",
       "category                   0\n",
       "subcategory                0\n",
       "kalories                   0\n",
       "proteins                   0\n",
       "fats                       0\n",
       "carbohydrates              0\n",
       "composition                0\n",
       "manufacturer               0\n",
       "brand                      0\n",
       "country                    0\n",
       "rating                     0\n",
       "size                       0\n",
       "price                      0\n",
       "old_price                  0\n",
       "discount                   0\n",
       "shelf_life                 0\n",
       "max_storage_temperature    0\n",
       "min_storage_temperature    0\n",
       "is_by_weight               0\n",
       "is_special_offer           0\n",
       "dtype: int64"
      ]
     },
     "execution_count": 25,
     "metadata": {},
     "output_type": "execute_result"
    }
   ],
   "source": [
    "numeric_cols = [\n",
    "    \"proteins\",\n",
    "    \"fats\",\n",
    "    \"carbohydrates\",\n",
    "    \"size\",\n",
    "    \"price\",\n",
    "    \"old_price\",\n",
    "    \"discount\",\n",
    "    \"shelf_life\",\n",
    "    \"max_storage_temperature\",\n",
    "    \"min_storage_temperature\",\n",
    "]\n",
    "df[numeric_cols] = df[numeric_cols].astype(float)\n",
    "df.isnull().sum()"
   ]
  },
  {
   "cell_type": "markdown",
   "id": "2ba948cc-f936-45b7-a3eb-9a66583de11d",
   "metadata": {},
   "source": [
    "\n",
    "**Outliers** \\\n",
    "We’ve addressed the outliers in `max_storage_temperature`, now let’s examine the rest."
   ]
  },
  {
   "cell_type": "code",
   "execution_count": 26,
   "id": "ec8b8a1c-da9e-48b2-b9b8-257af17e4867",
   "metadata": {},
   "outputs": [
    {
     "data": {
      "image/png": "[encoded data removed]",
      "text/plain": [
       "<Figure size 800x300 with 1 Axes>"
      ]
     },
     "metadata": {},
     "output_type": "display_data"
    }
   ],
   "source": [
    "plt.figure(figsize=(8, 3))\n",
    "sns.boxplot(data=df[['kalories', 'proteins', 'fats', 'carbohydrates']])\n",
    "plt.title('First Dataset')\n",
    "plt.xlabel('Columns')\n",
    "plt.ylabel('Values')\n",
    "plt.xticks(rotation=45)\n",
    "plt.show()"
   ]
  },
  {
   "cell_type": "markdown",
   "id": "87b43765-97c2-4b89-a853-369fc9f9e49a",
   "metadata": {},
   "source": [
    "\n",
    "Handle the cases of super-protein ice cream and super-caloric crackers.\n"
   ]
  },
  {
   "cell_type": "code",
   "execution_count": 27,
   "id": "52bc5930-8f0c-4413-893a-f1002b30498d",
   "metadata": {},
   "outputs": [
    {
     "name": "stdout",
     "output_type": "stream",
     "text": [
      "name        Хлебцы Magic Grain мультизлаковые тыквенные се...\n",
      "kalories                                               1610.0\n",
      "Name: 9031, dtype: object\n"
     ]
    }
   ],
   "source": [
    "x10_outliers = df['kalories'] > 1100\n",
    "print(df[x10_outliers][['name', 'kalories']].iloc[4])\n",
    "df.loc[x10_outliers, 'kalories'] = df['kalories'][x10_outliers] / 10"
   ]
  },
  {
   "cell_type": "code",
   "execution_count": 28,
   "id": "98f2254b-55b0-4b36-b13f-848156507e6d",
   "metadata": {},
   "outputs": [
    {
     "name": "stdout",
     "output_type": "stream",
     "text": [
      "                                                   name  kalories\n",
      "3890           Сыр Pretto творожный с огурцом 65%, 140г     942.6\n",
      "6910                       Водка Гусь Важный 40%, 500мл     920.0\n",
      "7044  Водка Kremlin Award Органик Лимитед Эдишн 40%,...     940.0\n"
     ]
    }
   ],
   "source": [
    "vodka_outliers = df['kalories'] > 919\n",
    "print(df[vodka_outliers][['name', 'kalories']])\n",
    "df.loc[vodka_outliers, 'kalories'] = df['kalories'][vodka_outliers] / (df['size'][vodka_outliers]/100)"
   ]
  },
  {
   "cell_type": "code",
   "execution_count": 29,
   "id": "31143e10-5a4e-4d63-8ab7-d207f00bcfd4",
   "metadata": {},
   "outputs": [
    {
     "name": "stdout",
     "output_type": "stream",
     "text": [
      "                                                    name  proteins\n",
      "11611  Мороженое сливочное Brand Ice Сливки с печенье...     250.0\n"
     ]
    }
   ],
   "source": [
    "icecream_outliers = df['proteins'] > 249\n",
    "print(df[icecream_outliers][['name', 'proteins']])\n",
    "df.loc[icecream_outliers, 'proteins'] = df['proteins'][icecream_outliers] / 10"
   ]
  },
  {
   "cell_type": "code",
   "execution_count": 30,
   "id": "b206e86f-57ef-41b7-819e-bbf0cca614cf",
   "metadata": {},
   "outputs": [
    {
     "name": "stdout",
     "output_type": "stream",
     "text": [
      "                                     name   fats\n",
      "5863  Гранола Ягодная Зелёная Линия, 300г  106.0\n"
     ]
    }
   ],
   "source": [
    "fats_outliers = df['fats'] > 105\n",
    "print(df[fats_outliers][['name', 'fats']])\n",
    "df.loc[fats_outliers, 'fats'] = df['fats'][fats_outliers] / 10"
   ]
  },
  {
   "cell_type": "code",
   "execution_count": 31,
   "id": "7a36653e-1c41-4445-869f-b84c8d39d494",
   "metadata": {},
   "outputs": [
    {
     "name": "stdout",
     "output_type": "stream",
     "text": [
      "                                      name  carbohydrates\n",
      "3619            Сыр Киприно Российский 50%          360.0\n",
      "6405                 Водка CORN 40%, 500мл          930.0\n",
      "10393  Конфеты ассорти Зелёная Линия, 200г          153.3\n"
     ]
    }
   ],
   "source": [
    "icecream_outliers = df['carbohydrates'] > 105\n",
    "print(df[icecream_outliers][['name', 'carbohydrates']])\n",
    "df.loc[icecream_outliers, 'carbohydrates'] = df['carbohydrates'][icecream_outliers] / 10"
   ]
  },
  {
   "cell_type": "markdown",
   "id": "7945f537-5d9c-48cd-bd03-41478dab1fa6",
   "metadata": {},
   "source": [
    "<img src='media/milk.gif' align='center' width=\"200px\">"
   ]
  },
  {
   "cell_type": "code",
   "execution_count": 32,
   "id": "indoor-grocery",
   "metadata": {},
   "outputs": [],
   "source": [
    "df.to_csv('my.csv')"
   ]
  },
  {
   "cell_type": "code",
   "execution_count": 33,
   "id": "patient-dealer",
   "metadata": {},
   "outputs": [],
   "source": [
    "df = pd.read_csv(\"my.csv\")\n"
   ]
  },
  {
   "cell_type": "code",
   "execution_count": 34,
   "id": "proud-dispute",
   "metadata": {},
   "outputs": [],
   "source": [
    "from sklearn.ensemble import IsolationForest\n",
    "\n",
    "numeric_features = [\n",
    "    \"kalories\",\n",
    "    \"proteins\",\n",
    "    \"fats\",\n",
    "    \"carbohydrates\",\n",
    "    \"rating\",\n",
    "    \"size\",\n",
    "    \"discount\",\n",
    "    \"shelf_life\",\n",
    "    \"max_storage_temperature\",\n",
    "    \"min_storage_temperature\",\n",
    "    \"is_by_weight\",\n",
    "    \"is_special_offer\",\n",
    "]\n",
    "\n",
    "one_hot_features = [\"category\", \"subcategory\", \"country\"]\n",
    "\n",
    "df_one_hot = pd.get_dummies(df[one_hot_features])\n",
    "X = np.concatenate((df[numeric_features], df_one_hot), axis=1)\n",
    "\n",
    "\n",
    "model =  IsolationForest(n_estimators=100, contamination=0.01, random_state=42)\n",
    "model.fit(X)\n",
    "y_pred = model.predict(X)"
   ]
  },
  {
   "cell_type": "code",
   "execution_count": 35,
   "id": "searching-cedar",
   "metadata": {},
   "outputs": [],
   "source": [
    "# Map the labels to 0 and 1\n",
    "y_pred[y_pred == 1] = 0\n",
    "y_pred[y_pred == -1] = 1\n",
    "\n",
    "# Add a new column to the DataFrame for the anomaly labels\n",
    "df['Anomaly_Flag'] = y_pred\n",
    "\n",
    "# Filter for anomalies\n",
    "anomalies = df[df['Anomaly_Flag'] == 1]"
   ]
  },
  {
   "cell_type": "code",
   "execution_count": 36,
   "id": "southwest-gregory",
   "metadata": {},
   "outputs": [
    {
     "data": {
      "text/html": [
       "<div>\n",
       "<style scoped>\n",
       "    .dataframe tbody tr th:only-of-type {\n",
       "        vertical-align: middle;\n",
       "    }\n",
       "\n",
       "    .dataframe tbody tr th {\n",
       "        vertical-align: top;\n",
       "    }\n",
       "\n",
       "    .dataframe thead th {\n",
       "        text-align: right;\n",
       "    }\n",
       "</style>\n",
       "<table border=\"1\" class=\"dataframe\">\n",
       "  <thead>\n",
       "    <tr style=\"text-align: right;\">\n",
       "      <th></th>\n",
       "      <th>Unnamed: 0</th>\n",
       "      <th>name</th>\n",
       "      <th>category</th>\n",
       "      <th>subcategory</th>\n",
       "      <th>kalories</th>\n",
       "      <th>proteins</th>\n",
       "      <th>fats</th>\n",
       "      <th>carbohydrates</th>\n",
       "      <th>composition</th>\n",
       "      <th>manufacturer</th>\n",
       "      <th>...</th>\n",
       "      <th>size</th>\n",
       "      <th>price</th>\n",
       "      <th>old_price</th>\n",
       "      <th>discount</th>\n",
       "      <th>shelf_life</th>\n",
       "      <th>max_storage_temperature</th>\n",
       "      <th>min_storage_temperature</th>\n",
       "      <th>is_by_weight</th>\n",
       "      <th>is_special_offer</th>\n",
       "      <th>Anomaly_Flag</th>\n",
       "    </tr>\n",
       "  </thead>\n",
       "  <tbody>\n",
       "    <tr>\n",
       "      <th>252</th>\n",
       "      <td>252</td>\n",
       "      <td>Колбаса Маладзечна Салями Шпинате Пиканте сыро...</td>\n",
       "      <td>Колбасные изделия</td>\n",
       "      <td>Колбаса</td>\n",
       "      <td>720.0</td>\n",
       "      <td>19.0</td>\n",
       "      <td>72.0</td>\n",
       "      <td>0.0</td>\n",
       "      <td>Unknown</td>\n",
       "      <td>Маладзечна</td>\n",
       "      <td>...</td>\n",
       "      <td>1000.0</td>\n",
       "      <td>1099.00</td>\n",
       "      <td>2499.90</td>\n",
       "      <td>56.0</td>\n",
       "      <td>120.0</td>\n",
       "      <td>6.0</td>\n",
       "      <td>2.0</td>\n",
       "      <td>1</td>\n",
       "      <td>False</td>\n",
       "      <td>1</td>\n",
       "    </tr>\n",
       "    <tr>\n",
       "      <th>258</th>\n",
       "      <td>258</td>\n",
       "      <td>Колбаски Гродненский МК Оригинальные Сицилийск...</td>\n",
       "      <td>Колбасные изделия</td>\n",
       "      <td>Колбаса</td>\n",
       "      <td>620.0</td>\n",
       "      <td>21.0</td>\n",
       "      <td>60.0</td>\n",
       "      <td>0.0</td>\n",
       "      <td>Свинина, шпик, филе цыплят-бройлеров, говядина...</td>\n",
       "      <td>Гродненский</td>\n",
       "      <td>...</td>\n",
       "      <td>1000.0</td>\n",
       "      <td>2599.00</td>\n",
       "      <td>2599.00</td>\n",
       "      <td>0.0</td>\n",
       "      <td>120.0</td>\n",
       "      <td>0.0</td>\n",
       "      <td>0.0</td>\n",
       "      <td>1</td>\n",
       "      <td>False</td>\n",
       "      <td>1</td>\n",
       "    </tr>\n",
       "    <tr>\n",
       "      <th>263</th>\n",
       "      <td>263</td>\n",
       "      <td>Колбаски Гродненский МК Оригинальные Парма сыр...</td>\n",
       "      <td>Колбасные изделия</td>\n",
       "      <td>Колбаса</td>\n",
       "      <td>650.0</td>\n",
       "      <td>21.0</td>\n",
       "      <td>63.0</td>\n",
       "      <td>0.0</td>\n",
       "      <td>Свинина, шпик, филе цыплят-бройлеров, говядина...</td>\n",
       "      <td>Гродненский</td>\n",
       "      <td>...</td>\n",
       "      <td>1000.0</td>\n",
       "      <td>2599.00</td>\n",
       "      <td>2599.00</td>\n",
       "      <td>0.0</td>\n",
       "      <td>120.0</td>\n",
       "      <td>6.0</td>\n",
       "      <td>2.0</td>\n",
       "      <td>1</td>\n",
       "      <td>False</td>\n",
       "      <td>1</td>\n",
       "    </tr>\n",
       "    <tr>\n",
       "      <th>329</th>\n",
       "      <td>329</td>\n",
       "      <td>Колбаса Гродненский МК Оригинальная Брезаола с...</td>\n",
       "      <td>Колбасные изделия</td>\n",
       "      <td>Колбаса</td>\n",
       "      <td>440.0</td>\n",
       "      <td>30.0</td>\n",
       "      <td>35.0</td>\n",
       "      <td>0.0</td>\n",
       "      <td>Говядина, жир-сырец говяжий, комплексная пищев...</td>\n",
       "      <td>Гродненский</td>\n",
       "      <td>...</td>\n",
       "      <td>1000.0</td>\n",
       "      <td>3299.00</td>\n",
       "      <td>3299.00</td>\n",
       "      <td>0.0</td>\n",
       "      <td>120.0</td>\n",
       "      <td>0.0</td>\n",
       "      <td>0.0</td>\n",
       "      <td>1</td>\n",
       "      <td>False</td>\n",
       "      <td>1</td>\n",
       "    </tr>\n",
       "    <tr>\n",
       "      <th>511</th>\n",
       "      <td>511</td>\n",
       "      <td>Сало Заповедные Заповедное из шпика копченое</td>\n",
       "      <td>Колбасные изделия</td>\n",
       "      <td>Деликатесы и копчёности</td>\n",
       "      <td>860.0</td>\n",
       "      <td>0.5</td>\n",
       "      <td>95.0</td>\n",
       "      <td>0.0</td>\n",
       "      <td>Unknown</td>\n",
       "      <td>Заповедные продукты</td>\n",
       "      <td>...</td>\n",
       "      <td>1000.0</td>\n",
       "      <td>699.90</td>\n",
       "      <td>879.99</td>\n",
       "      <td>20.0</td>\n",
       "      <td>30.0</td>\n",
       "      <td>6.0</td>\n",
       "      <td>0.0</td>\n",
       "      <td>1</td>\n",
       "      <td>False</td>\n",
       "      <td>1</td>\n",
       "    </tr>\n",
       "    <tr>\n",
       "      <th>...</th>\n",
       "      <td>...</td>\n",
       "      <td>...</td>\n",
       "      <td>...</td>\n",
       "      <td>...</td>\n",
       "      <td>...</td>\n",
       "      <td>...</td>\n",
       "      <td>...</td>\n",
       "      <td>...</td>\n",
       "      <td>...</td>\n",
       "      <td>...</td>\n",
       "      <td>...</td>\n",
       "      <td>...</td>\n",
       "      <td>...</td>\n",
       "      <td>...</td>\n",
       "      <td>...</td>\n",
       "      <td>...</td>\n",
       "      <td>...</td>\n",
       "      <td>...</td>\n",
       "      <td>...</td>\n",
       "      <td>...</td>\n",
       "      <td>...</td>\n",
       "    </tr>\n",
       "    <tr>\n",
       "      <th>11072</th>\n",
       "      <td>11268</td>\n",
       "      <td>Печенье Schar Ciocko Sticks шоколадное без глю...</td>\n",
       "      <td>Здоровье</td>\n",
       "      <td>Без глютена</td>\n",
       "      <td>521.0</td>\n",
       "      <td>5.2</td>\n",
       "      <td>28.0</td>\n",
       "      <td>51.0</td>\n",
       "      <td>Молочный шоколад 46% - какао не менее 40% (сах...</td>\n",
       "      <td>Dr. Schar</td>\n",
       "      <td>...</td>\n",
       "      <td>150.0</td>\n",
       "      <td>529.99</td>\n",
       "      <td>529.99</td>\n",
       "      <td>0.0</td>\n",
       "      <td>365.0</td>\n",
       "      <td>0.0</td>\n",
       "      <td>0.0</td>\n",
       "      <td>0</td>\n",
       "      <td>False</td>\n",
       "      <td>1</td>\n",
       "    </tr>\n",
       "    <tr>\n",
       "      <th>11511</th>\n",
       "      <td>11707</td>\n",
       "      <td>Джин Peddlers Shanghai Craft 45.7%, 700мл</td>\n",
       "      <td>Алкогольные напитки</td>\n",
       "      <td>Джин</td>\n",
       "      <td>260.0</td>\n",
       "      <td>0.0</td>\n",
       "      <td>0.0</td>\n",
       "      <td>0.0</td>\n",
       "      <td>Вода исправленная , спирт этиловый ректификова...</td>\n",
       "      <td>СТМ</td>\n",
       "      <td>...</td>\n",
       "      <td>700.0</td>\n",
       "      <td>3499.00</td>\n",
       "      <td>699.00</td>\n",
       "      <td>0.0</td>\n",
       "      <td>9999.0</td>\n",
       "      <td>25.0</td>\n",
       "      <td>5.0</td>\n",
       "      <td>0</td>\n",
       "      <td>True</td>\n",
       "      <td>1</td>\n",
       "    </tr>\n",
       "    <tr>\n",
       "      <th>12224</th>\n",
       "      <td>12424</td>\n",
       "      <td>Батат Зеленика Здоровый перекус овощной, 50г</td>\n",
       "      <td>Здоровье</td>\n",
       "      <td>Полезный перекус</td>\n",
       "      <td>503.0</td>\n",
       "      <td>4.0</td>\n",
       "      <td>21.8</td>\n",
       "      <td>72.5</td>\n",
       "      <td>Батат свежий, масло подсолнечное, патока крахм...</td>\n",
       "      <td>Зелёная горка</td>\n",
       "      <td>...</td>\n",
       "      <td>50.0</td>\n",
       "      <td>119.99</td>\n",
       "      <td>159.99</td>\n",
       "      <td>25.0</td>\n",
       "      <td>365.0</td>\n",
       "      <td>25.0</td>\n",
       "      <td>5.0</td>\n",
       "      <td>0</td>\n",
       "      <td>False</td>\n",
       "      <td>1</td>\n",
       "    </tr>\n",
       "    <tr>\n",
       "      <th>12226</th>\n",
       "      <td>12426</td>\n",
       "      <td>Ананас Зеленика Здоровый перекус фруктовый, 20г</td>\n",
       "      <td>Здоровье</td>\n",
       "      <td>Полезный перекус</td>\n",
       "      <td>370.0</td>\n",
       "      <td>5.0</td>\n",
       "      <td>0.0</td>\n",
       "      <td>85.0</td>\n",
       "      <td>Ананас.</td>\n",
       "      <td>Зелёная горка</td>\n",
       "      <td>...</td>\n",
       "      <td>20.0</td>\n",
       "      <td>119.99</td>\n",
       "      <td>209.99</td>\n",
       "      <td>42.0</td>\n",
       "      <td>365.0</td>\n",
       "      <td>25.0</td>\n",
       "      <td>0.0</td>\n",
       "      <td>0</td>\n",
       "      <td>False</td>\n",
       "      <td>1</td>\n",
       "    </tr>\n",
       "    <tr>\n",
       "      <th>12229</th>\n",
       "      <td>12429</td>\n",
       "      <td>Шиитаке Зеленика Здоровый перекус овощной, 50г</td>\n",
       "      <td>Здоровье</td>\n",
       "      <td>Полезный перекус</td>\n",
       "      <td>517.0</td>\n",
       "      <td>9.2</td>\n",
       "      <td>25.5</td>\n",
       "      <td>61.6</td>\n",
       "      <td>Шиитаке свежие, масло подсолнечное, патока кра...</td>\n",
       "      <td>Зелёная горка</td>\n",
       "      <td>...</td>\n",
       "      <td>50.0</td>\n",
       "      <td>289.99</td>\n",
       "      <td>289.99</td>\n",
       "      <td>0.0</td>\n",
       "      <td>365.0</td>\n",
       "      <td>25.0</td>\n",
       "      <td>5.0</td>\n",
       "      <td>0</td>\n",
       "      <td>False</td>\n",
       "      <td>1</td>\n",
       "    </tr>\n",
       "  </tbody>\n",
       "</table>\n",
       "<p>124 rows × 23 columns</p>\n",
       "</div>"
      ],
      "text/plain": [
       "       Unnamed: 0                                               name  \\\n",
       "252           252  Колбаса Маладзечна Салями Шпинате Пиканте сыро...   \n",
       "258           258  Колбаски Гродненский МК Оригинальные Сицилийск...   \n",
       "263           263  Колбаски Гродненский МК Оригинальные Парма сыр...   \n",
       "329           329  Колбаса Гродненский МК Оригинальная Брезаола с...   \n",
       "511           511       Сало Заповедные Заповедное из шпика копченое   \n",
       "...           ...                                                ...   \n",
       "11072       11268  Печенье Schar Ciocko Sticks шоколадное без глю...   \n",
       "11511       11707          Джин Peddlers Shanghai Craft 45.7%, 700мл   \n",
       "12224       12424       Батат Зеленика Здоровый перекус овощной, 50г   \n",
       "12226       12426    Ананас Зеленика Здоровый перекус фруктовый, 20г   \n",
       "12229       12429     Шиитаке Зеленика Здоровый перекус овощной, 50г   \n",
       "\n",
       "                  category              subcategory  kalories  proteins  fats  \\\n",
       "252      Колбасные изделия                  Колбаса     720.0      19.0  72.0   \n",
       "258      Колбасные изделия                  Колбаса     620.0      21.0  60.0   \n",
       "263      Колбасные изделия                  Колбаса     650.0      21.0  63.0   \n",
       "329      Колбасные изделия                  Колбаса     440.0      30.0  35.0   \n",
       "511      Колбасные изделия  Деликатесы и копчёности     860.0       0.5  95.0   \n",
       "...                    ...                      ...       ...       ...   ...   \n",
       "11072             Здоровье              Без глютена     521.0       5.2  28.0   \n",
       "11511  Алкогольные напитки                     Джин     260.0       0.0   0.0   \n",
       "12224             Здоровье         Полезный перекус     503.0       4.0  21.8   \n",
       "12226             Здоровье         Полезный перекус     370.0       5.0   0.0   \n",
       "12229             Здоровье         Полезный перекус     517.0       9.2  25.5   \n",
       "\n",
       "       carbohydrates                                        composition  \\\n",
       "252              0.0                                            Unknown   \n",
       "258              0.0  Свинина, шпик, филе цыплят-бройлеров, говядина...   \n",
       "263              0.0  Свинина, шпик, филе цыплят-бройлеров, говядина...   \n",
       "329              0.0  Говядина, жир-сырец говяжий, комплексная пищев...   \n",
       "511              0.0                                            Unknown   \n",
       "...              ...                                                ...   \n",
       "11072           51.0  Молочный шоколад 46% - какао не менее 40% (сах...   \n",
       "11511            0.0  Вода исправленная , спирт этиловый ректификова...   \n",
       "12224           72.5  Батат свежий, масло подсолнечное, патока крахм...   \n",
       "12226           85.0                                            Ананас.   \n",
       "12229           61.6  Шиитаке свежие, масло подсолнечное, патока кра...   \n",
       "\n",
       "              manufacturer  ...    size    price  old_price  discount  \\\n",
       "252             Маладзечна  ...  1000.0  1099.00    2499.90      56.0   \n",
       "258            Гродненский  ...  1000.0  2599.00    2599.00       0.0   \n",
       "263            Гродненский  ...  1000.0  2599.00    2599.00       0.0   \n",
       "329            Гродненский  ...  1000.0  3299.00    3299.00       0.0   \n",
       "511    Заповедные продукты  ...  1000.0   699.90     879.99      20.0   \n",
       "...                    ...  ...     ...      ...        ...       ...   \n",
       "11072            Dr. Schar  ...   150.0   529.99     529.99       0.0   \n",
       "11511                  СТМ  ...   700.0  3499.00     699.00       0.0   \n",
       "12224        Зелёная горка  ...    50.0   119.99     159.99      25.0   \n",
       "12226        Зелёная горка  ...    20.0   119.99     209.99      42.0   \n",
       "12229        Зелёная горка  ...    50.0   289.99     289.99       0.0   \n",
       "\n",
       "       shelf_life  max_storage_temperature  min_storage_temperature  \\\n",
       "252         120.0                      6.0                      2.0   \n",
       "258         120.0                      0.0                      0.0   \n",
       "263         120.0                      6.0                      2.0   \n",
       "329         120.0                      0.0                      0.0   \n",
       "511          30.0                      6.0                      0.0   \n",
       "...           ...                      ...                      ...   \n",
       "11072       365.0                      0.0                      0.0   \n",
       "11511      9999.0                     25.0                      5.0   \n",
       "12224       365.0                     25.0                      5.0   \n",
       "12226       365.0                     25.0                      0.0   \n",
       "12229       365.0                     25.0                      5.0   \n",
       "\n",
       "       is_by_weight  is_special_offer  Anomaly_Flag  \n",
       "252               1             False             1  \n",
       "258               1             False             1  \n",
       "263               1             False             1  \n",
       "329               1             False             1  \n",
       "511               1             False             1  \n",
       "...             ...               ...           ...  \n",
       "11072             0             False             1  \n",
       "11511             0              True             1  \n",
       "12224             0             False             1  \n",
       "12226             0             False             1  \n",
       "12229             0             False             1  \n",
       "\n",
       "[124 rows x 23 columns]"
      ]
     },
     "execution_count": 36,
     "metadata": {},
     "output_type": "execute_result"
    }
   ],
   "source": [
    "df[df['Anomaly_Flag'] == 1]"
   ]
  },
  {
   "cell_type": "code",
   "execution_count": 37,
   "id": "finnish-frontier",
   "metadata": {},
   "outputs": [
    {
     "data": {
      "image/png": "[encoded data removed]",
      "text/plain": [
       "<Figure size 640x480 with 1 Axes>"
      ]
     },
     "metadata": {},
     "output_type": "display_data"
    }
   ],
   "source": [
    "df['calories_proteins'] = df['proteins'] * 4\n",
    "\n",
    "df['calories_fats'] = df['fats'] * 9\n",
    "\n",
    "df['calories_carbohydrates'] = df['carbohydrates'] * 4\n",
    "\n",
    "df['total_calories'] = df['calories_proteins'] + df['calories_fats'] + df['calories_carbohydrates']\n",
    "\n",
    "plt.hist(abs(df['total_calories'] - df['kalories']))\n",
    "plt.show()"
   ]
  },
  {
   "cell_type": "markdown",
   "id": "077ad29d-7f11-4bb2-bd1b-27c590d2915f",
   "metadata": {},
   "source": [
    "\n",
    "**Result** \\\n",
    "There are no missing values in the data, and it has been formatted and cleaned of outliers."
   ]
  },
  {
   "cell_type": "code",
   "execution_count": 38,
   "id": "f73e0fbd-bf37-4a77-9586-23181bd7078e",
   "metadata": {},
   "outputs": [
    {
     "name": "stdout",
     "output_type": "stream",
     "text": [
      "<class 'pandas.core.frame.DataFrame'>\n",
      "RangeIndex: 12399 entries, 0 to 12398\n",
      "Data columns (total 27 columns):\n",
      " #   Column                   Non-Null Count  Dtype  \n",
      "---  ------                   --------------  -----  \n",
      " 0   Unnamed: 0               12399 non-null  int64  \n",
      " 1   name                     12399 non-null  object \n",
      " 2   category                 12399 non-null  object \n",
      " 3   subcategory              12399 non-null  object \n",
      " 4   kalories                 12399 non-null  float64\n",
      " 5   proteins                 12399 non-null  float64\n",
      " 6   fats                     12399 non-null  float64\n",
      " 7   carbohydrates            12399 non-null  float64\n",
      " 8   composition              12399 non-null  object \n",
      " 9   manufacturer             12399 non-null  object \n",
      " 10  brand                    12399 non-null  object \n",
      " 11  country                  12399 non-null  object \n",
      " 12  rating                   12399 non-null  float64\n",
      " 13  size                     12399 non-null  float64\n",
      " 14  price                    12399 non-null  float64\n",
      " 15  old_price                12399 non-null  float64\n",
      " 16  discount                 12399 non-null  float64\n",
      " 17  shelf_life               12399 non-null  float64\n",
      " 18  max_storage_temperature  12399 non-null  float64\n",
      " 19  min_storage_temperature  12399 non-null  float64\n",
      " 20  is_by_weight             12399 non-null  int64  \n",
      " 21  is_special_offer         12399 non-null  bool   \n",
      " 22  Anomaly_Flag             12399 non-null  int64  \n",
      " 23  calories_proteins        12399 non-null  float64\n",
      " 24  calories_fats            12399 non-null  float64\n",
      " 25  calories_carbohydrates   12399 non-null  float64\n",
      " 26  total_calories           12399 non-null  float64\n",
      "dtypes: bool(1), float64(16), int64(3), object(7)\n",
      "memory usage: 2.5+ MB\n"
     ]
    }
   ],
   "source": [
    "df.info()"
   ]
  },
  {
   "cell_type": "markdown",
   "id": "92f7fc38-313b-483f-ba61-0e2bcc57a39c",
   "metadata": {},
   "source": [
    "## Visualization"
   ]
  },
  {
   "cell_type": "markdown",
   "id": "338f4755-f8ae-4996-93dd-c82e388bee2e",
   "metadata": {},
   "source": [
    "\n",
    "Let's examine the distribution of the variable we will be predicting.\n"
   ]
  },
  {
   "cell_type": "code",
   "execution_count": 39,
   "id": "b782c138-84d2-4107-b2de-581a88da7015",
   "metadata": {},
   "outputs": [
    {
     "data": {
      "image/png": "[encoded data removed]",
      "text/plain": [
       "<Figure size 1400x300 with 1 Axes>"
      ]
     },
     "metadata": {},
     "output_type": "display_data"
    }
   ],
   "source": [
    "plt.figure(figsize=(14, 3))\n",
    "sns.histplot(df['price'], color='#3764fa')\n",
    "plt.title('Price Distribution')\n",
    "plt.xlabel('Price')\n",
    "plt.ylabel('Frequency')\n",
    "plt.show()"
   ]
  },
  {
   "cell_type": "code",
   "execution_count": 40,
   "id": "003b707f-f25a-4610-b542-e4e1b822c3f9",
   "metadata": {},
   "outputs": [
    {
     "data": {
      "image/png": "[encoded data removed]",
      "text/plain": [
       "<Figure size 1400x300 with 1 Axes>"
      ]
     },
     "metadata": {},
     "output_type": "display_data"
    }
   ],
   "source": [
    "threshold_percentage = 0.8\n",
    "\n",
    "category_counts = df['country'].value_counts()\n",
    "\n",
    "small_categories_sum = category_counts[category_counts / category_counts.sum() * 100 < threshold_percentage].sum()\n",
    "category_counts = category_counts[category_counts / category_counts.sum() * 100 >= threshold_percentage]\n",
    "category_counts['Other'] = small_categories_sum\n",
    "\n",
    "plt.figure(figsize=(14, 3))\n",
    "sns.set_palette(\"pastel\")\n",
    "plt.pie(category_counts, labels=category_counts.index, autopct='%1.1f%%', startangle=45)\n",
    "plt.title('Product Category Distribution')\n",
    "plt.axis('equal')\n",
    "plt.show()"
   ]
  },
  {
   "cell_type": "code",
   "execution_count": 41,
   "id": "876bcb3a-2ec9-4366-9450-633a1b286a58",
   "metadata": {},
   "outputs": [
    {
     "data": {
      "image/png": "[encoded data removed]",
      "text/plain": [
       "<Figure size 1400x300 with 1 Axes>"
      ]
     },
     "metadata": {},
     "output_type": "display_data"
    }
   ],
   "source": [
    "mean_discount_by_subcategory = df.groupby('subcategory')['discount'].mean()\n",
    "\n",
    "top_10_discount_by_subcategory = mean_discount_by_subcategory.sort_values(ascending=False).head(10)\n",
    "\n",
    "plt.figure(figsize=(14, 3))\n",
    "top_10_discount_by_subcategory.plot(kind='barh', color='#3764fa')\n",
    "plt.title('Top-10 Subcategories by Average Discount')\n",
    "plt.xlabel('Average Discount')\n",
    "plt.ylabel('Subcategory')\n",
    "plt.gca().invert_yaxis()\n",
    "plt.show()"
   ]
  },
  {
   "cell_type": "markdown",
   "id": "d7d2b069-7536-443d-ace1-1929bc1b212a",
   "metadata": {},
   "source": [
    "\n",
    "It appears that discounts are more common for products with a longer shelf life.\n"
   ]
  },
  {
   "cell_type": "code",
   "execution_count": 42,
   "id": "66335fba-b36d-4807-9d5d-e68d89afd7b5",
   "metadata": {},
   "outputs": [
    {
     "data": {
      "image/png": "[encoded data removed]",
      "text/plain": [
       "<Figure size 1200x300 with 1 Axes>"
      ]
     },
     "metadata": {},
     "output_type": "display_data"
    }
   ],
   "source": [
    "mean_rating_by_country = df.groupby('country')['rating'].mean()\n",
    "\n",
    "top_15_rating_by_country = mean_rating_by_country.sort_values(ascending=False).head(5)\n",
    "\n",
    "plt.figure(figsize=(12, 3))\n",
    "top_15_rating_by_country.plot(kind='barh', color='#3764fa')\n",
    "plt.title('Top-5 Countries by Average Rating')\n",
    "plt.xlabel('Average Rating')\n",
    "plt.ylabel('Country')\n",
    "plt.gca().invert_yaxis()\n",
    "plt.show()"
   ]
  },
  {
   "cell_type": "code",
   "execution_count": 43,
   "id": "734506d7-319d-4e42-98e7-9612e9a79d4c",
   "metadata": {},
   "outputs": [
    {
     "data": {
      "text/plain": [
       "<Axes: >"
      ]
     },
     "execution_count": 43,
     "metadata": {},
     "output_type": "execute_result"
    },
    {
     "data": {
      "image/png": "[encoded data removed]",
      "text/plain": [
       "<Figure size 640x480 with 2 Axes>"
      ]
     },
     "metadata": {},
     "output_type": "display_data"
    }
   ],
   "source": [
    "numeric_df = df.drop(['name', 'category', 'subcategory', 'composition', 'manufacturer', 'brand', 'country'], axis=1)\n",
    "sns.heatmap(numeric_df.corr())"
   ]
  },
  {
   "cell_type": "markdown",
   "id": "4fcd90de-09b9-4825-9580-ea577693624f",
   "metadata": {},
   "source": [
    "\n",
    "In addition to some expected correlations, such as between calories and macronutrients (proteins, fats, and carbohydrates), it's interesting to note that there is a correlation between shelf life and price, as well as a slightly weaker correlation between protein content and whether a product is sold by weight.\n",
    "\n",
    "Let's take a look at the highest-calorie products."
   ]
  },
  {
   "cell_type": "code",
   "execution_count": 44,
   "id": "3062aa12-44f6-41a6-9694-24f5ca87171e",
   "metadata": {},
   "outputs": [
    {
     "data": {
      "text/plain": [
       "<Figure size 1400x800 with 0 Axes>"
      ]
     },
     "metadata": {},
     "output_type": "display_data"
    },
    {
     "data": {
      "image/png": "[encoded data removed]",
      "text/plain": [
       "<Figure size 640x480 with 1 Axes>"
      ]
     },
     "metadata": {},
     "output_type": "display_data"
    }
   ],
   "source": [
    "nutrients_by_subcategory = df.groupby('subcategory')[['kalories', 'proteins', 'fats', 'carbohydrates']] \\\n",
    "    .mean().sort_values(by='kalories', ascending=False)[['proteins', 'fats', 'carbohydrates']].head(10)\n",
    "\n",
    "plt.figure(figsize=(14, 8))\n",
    "nutrients_by_subcategory.plot(kind='bar', stacked=True)\n",
    "plt.title('Most Caloric Subcategories')\n",
    "plt.xlabel('Subcategory')\n",
    "plt.ylabel('Average Value')\n",
    "plt.xticks(rotation=45, ha='right')\n",
    "plt.legend(title='Nutrients', loc='upper left')\n",
    "plt.tight_layout()\n",
    "plt.show()"
   ]
  },
  {
   "cell_type": "markdown",
   "id": "f7f57407-3170-4953-9230-5f5affe6b750",
   "metadata": {},
   "source": [
    "\n",
    "Let's examine the highest-protein products."
   ]
  },
  {
   "cell_type": "code",
   "execution_count": 45,
   "id": "926aadd4-f2ba-4734-8146-68b96ca0c2bd",
   "metadata": {},
   "outputs": [
    {
     "data": {
      "text/plain": [
       "<Figure size 1400x800 with 0 Axes>"
      ]
     },
     "metadata": {},
     "output_type": "display_data"
    },
    {
     "data": {
      "image/png": "[encoded data removed]",
      "text/plain": [
       "<Figure size 640x480 with 1 Axes>"
      ]
     },
     "metadata": {},
     "output_type": "display_data"
    }
   ],
   "source": [
    "\n",
    "nutrients_by_subcategory = df.groupby('subcategory')[['proteins', 'fats', 'carbohydrates']] \\\n",
    "    .mean().sort_values(by='proteins', ascending=False).head(10)\n",
    "\n",
    "plt.figure(figsize=(14, 8))\n",
    "nutrients_by_subcategory.plot(kind='bar', stacked=True)\n",
    "plt.title('Most Protein-Rich Subcategories')\n",
    "plt.xlabel('Subcategory')\n",
    "plt.ylabel('Average Value')\n",
    "plt.xticks(rotation=45, ha='right')\n",
    "plt.legend(title='Nutrients', loc='upper left')\n",
    "plt.tight_layout()\n",
    "plt.show()"
   ]
  },
  {
   "cell_type": "markdown",
   "id": "0aa006e3-4db2-45b1-b627-d28c3cb0b481",
   "metadata": {},
   "source": [
    "## Feature Engineering\n"
   ]
  },
  {
   "cell_type": "code",
   "execution_count": 46,
   "id": "a8f08889-1750-47d7-a186-5089379800e3",
   "metadata": {},
   "outputs": [],
   "source": [
    "from sklearn.feature_extraction.text import HashingVectorizer\n",
    "\n",
    "import country_data"
   ]
  },
  {
   "cell_type": "markdown",
   "id": "850908f8-e155-4d42-b21c-c391b46a7a0d",
   "metadata": {},
   "source": [
    "\n",
    "`is_by_weight` - Indicates whether the product is sold by weight \\\n",
    "`is_special_offer` - Indicates whether the product has a special offer \\\n",
    "`composition[128]` - Composition in vectorized form\n",
    "\n",
    "`storage_temp_range` - Storage temperature range \\\n",
    "`protein_to_carb_ratio` - Protein to carbohydrate ratio \\\n",
    "`is_low_carb` - Indicates whether the product is low-carb\n",
    "\n",
    "`kalories_all` - Total calories \\\n",
    "`proteins_all` - Total proteins \\\n",
    "`fats_all` - Total fats\n",
    "\n",
    "`is_local` - Indicates whether the product is from Russia \\\n",
    "`country_gdp_per_capita` - Country's GDP per capita\n"
   ]
  },
  {
   "cell_type": "markdown",
   "id": "4ada06e4-4c91-4c61-b8e4-7a185746591d",
   "metadata": {},
   "source": [
    "\n",
    "The features [is_by_weight](#is_by_weight) and [is_special_offer](#is_special_offer) were already created during preprocessing, so we'll create the remaining ones.\n"
   ]
  },
  {
   "cell_type": "markdown",
   "id": "69bb143d-48e4-4fa5-b7be-e29a661bbb2b",
   "metadata": {},
   "source": [
    "\n",
    "**Step 1** \\\n",
    "Represent the product composition in vector form using HashingVectorizer.\n"
   ]
  },
  {
   "cell_type": "code",
   "execution_count": 47,
   "id": "479cbd7b-c00f-445b-a18e-2f2836f10dbf",
   "metadata": {},
   "outputs": [],
   "source": [
    "lines = df['composition'][~df['composition'].isnull()]\n",
    "vectorizer = HashingVectorizer(n_features=128)\n",
    "composition_vectors = vectorizer.fit_transform(lines).toarray()"
   ]
  },
  {
   "cell_type": "markdown",
   "id": "84812063-bc40-4d7e-ba00-154a8048e813",
   "metadata": {},
   "source": [
    "\n",
    "Keep `composition_vectors` as a variable for convenience.\n"
   ]
  },
  {
   "cell_type": "markdown",
   "id": "b69a63fd-8b6a-4bba-bb06-b25c9fb343fc",
   "metadata": {},
   "source": [
    "\n",
    "**Step 2** \\\n",
    "Create `storage_temp_range`, `protein_to_carb_ratio`, and `is_low_carb`. \\\n",
    "A product is considered low-carb if the protein-to-carbohydrate ratio is greater than 1.\n"
   ]
  },
  {
   "cell_type": "code",
   "execution_count": 48,
   "id": "49d83a90-fc44-42bf-a132-21949d4bdbed",
   "metadata": {},
   "outputs": [],
   "source": [
    "def calculate_ratio(proteins, carbs):\n",
    "    if carbs == 0:\n",
    "        if proteins == 0:\n",
    "            return 0.0  # NaN\n",
    "        else:\n",
    "            return 1e6  # inf \n",
    "    return proteins / carbs\n",
    "\n",
    "df[\"storage_temp_range\"] = df[\"max_storage_temperature\"] - df[\"min_storage_temperature\"]\n",
    "\n",
    "df[\"protein_to_carb_ratio\"] = df.apply(\n",
    "    lambda row: calculate_ratio(row[\"proteins\"], row[\"carbohydrates\"]), axis=1\n",
    ")\n",
    "\n",
    "df[\"is_low_carb\"] = df[\"protein_to_carb_ratio\"] > 1"
   ]
  },
  {
   "cell_type": "markdown",
   "id": "a8b94fcc-a943-4b8f-9486-c4e0c20127e9",
   "metadata": {},
   "source": [
    "\n",
    "**Step 3** \\\n",
    "Create `kalories_all`, `proteins_all`, and `fats_all`.\n"
   ]
  },
  {
   "cell_type": "code",
   "execution_count": 49,
   "id": "92829f60-2552-4862-b7cd-f726317cb4e7",
   "metadata": {},
   "outputs": [],
   "source": [
    "df['kalories_all'] = df['kalories']/100 * df['size']\n",
    "df['proteins_all'] = df['proteins']/100 * df['size']\n",
    "df['fats_all'] = df['fats']/100 * df['size']"
   ]
  },
  {
   "cell_type": "markdown",
   "id": "5bcf05a8-c740-40d0-90ba-a2f5ebc11ece",
   "metadata": {},
   "source": [
    "\n",
    "**Step 4** \\\n",
    "Obtain `country_gdp_per_capita` using a function from `country_data`. \\\n",
    "Consider everything from Russia as `is_local`.\n"
   ]
  },
  {
   "cell_type": "code",
   "execution_count": 50,
   "id": "937db389-49ee-42d0-b2cb-733501c44a8b",
   "metadata": {},
   "outputs": [],
   "source": [
    "df['is_local'] = df['country'] == \"Россия\"\n",
    "\n",
    "df['country_gdp_per_capita'] = df['country'].apply(\n",
    "    country_data.get_country_gdp_per_capita\n",
    ").astype(float)"
   ]
  },
  {
   "cell_type": "markdown",
   "id": "18870164-cc83-4da3-b0ca-2efcad9ae75d",
   "metadata": {},
   "source": [
    "\n",
    "**Result** \\\n",
    "All new features have been successfully created."
   ]
  },
  {
   "cell_type": "code",
   "execution_count": 51,
   "id": "d337d992-b29c-4585-b62c-e8a679ef871d",
   "metadata": {},
   "outputs": [
    {
     "name": "stdout",
     "output_type": "stream",
     "text": [
      "<class 'pandas.core.frame.DataFrame'>\n",
      "RangeIndex: 12399 entries, 0 to 12398\n",
      "Data columns (total 35 columns):\n",
      " #   Column                   Non-Null Count  Dtype  \n",
      "---  ------                   --------------  -----  \n",
      " 0   Unnamed: 0               12399 non-null  int64  \n",
      " 1   name                     12399 non-null  object \n",
      " 2   category                 12399 non-null  object \n",
      " 3   subcategory              12399 non-null  object \n",
      " 4   kalories                 12399 non-null  float64\n",
      " 5   proteins                 12399 non-null  float64\n",
      " 6   fats                     12399 non-null  float64\n",
      " 7   carbohydrates            12399 non-null  float64\n",
      " 8   composition              12399 non-null  object \n",
      " 9   manufacturer             12399 non-null  object \n",
      " 10  brand                    12399 non-null  object \n",
      " 11  country                  12399 non-null  object \n",
      " 12  rating                   12399 non-null  float64\n",
      " 13  size                     12399 non-null  float64\n",
      " 14  price                    12399 non-null  float64\n",
      " 15  old_price                12399 non-null  float64\n",
      " 16  discount                 12399 non-null  float64\n",
      " 17  shelf_life               12399 non-null  float64\n",
      " 18  max_storage_temperature  12399 non-null  float64\n",
      " 19  min_storage_temperature  12399 non-null  float64\n",
      " 20  is_by_weight             12399 non-null  int64  \n",
      " 21  is_special_offer         12399 non-null  bool   \n",
      " 22  Anomaly_Flag             12399 non-null  int64  \n",
      " 23  calories_proteins        12399 non-null  float64\n",
      " 24  calories_fats            12399 non-null  float64\n",
      " 25  calories_carbohydrates   12399 non-null  float64\n",
      " 26  total_calories           12399 non-null  float64\n",
      " 27  storage_temp_range       12399 non-null  float64\n",
      " 28  protein_to_carb_ratio    12399 non-null  float64\n",
      " 29  is_low_carb              12399 non-null  bool   \n",
      " 30  kalories_all             12399 non-null  float64\n",
      " 31  proteins_all             12399 non-null  float64\n",
      " 32  fats_all                 12399 non-null  float64\n",
      " 33  is_local                 12399 non-null  bool   \n",
      " 34  country_gdp_per_capita   12399 non-null  float64\n",
      "dtypes: bool(3), float64(22), int64(3), object(7)\n",
      "memory usage: 3.1+ MB\n"
     ]
    }
   ],
   "source": [
    "df.info()"
   ]
  },
  {
   "cell_type": "markdown",
   "id": "8ba935c2-3542-4462-86fe-d895081cfb76",
   "metadata": {},
   "source": [
    "## Hypotheses\n"
   ]
  },
  {
   "cell_type": "code",
   "execution_count": 52,
   "id": "a7f1d781-8d0b-4b46-8b8e-6913551ed6a3",
   "metadata": {},
   "outputs": [],
   "source": [
    "import statsmodels.api as sm\n",
    "from scipy import stats"
   ]
  },
  {
   "cell_type": "markdown",
   "id": "c0a36dcd-1011-42a1-a5ff-ed11241f53c2",
   "metadata": {},
   "source": [
    "\n",
    "During the project, several questions arose: \n",
    "- Does the composition affect the product's rating?\n",
    "- Does the protein content depend on whether the product is sold by weight?\n",
    "- Does the price depend on the shelf life?\n",
    "- Are foreign products more expensive?\n",
    "- Is it true that discounts are less common for products with a short shelf life?"
   ]
  },
  {
   "cell_type": "markdown",
   "id": "b3f06edb-ba90-4cad-b5f9-2cf38017251d",
   "metadata": {},
   "source": [
    "\n",
    "**Step 1** \\\n",
    "Does the composition affect the product's rating?\n",
    "\n",
    "$$\n",
    "\\begin{aligned}\n",
    "&H_0: \\text{Composition does not affect the product's rating} \\\\ \n",
    "&H_1: \\text{Composition affects the product's rating}\n",
    "\\end{aligned}\n",
    "$$\n",
    "\n",
    "We will apply regression analysis."
   ]
  },
  {
   "cell_type": "code",
   "execution_count": 53,
   "id": "0a715c7b-ab25-4300-af55-0ebd3d8ead7a",
   "metadata": {},
   "outputs": [
    {
     "name": "stdout",
     "output_type": "stream",
     "text": [
      "Number of p-values < alpha: 36 / 128\n",
      "H0 is rejected: Composition affects the product rating\n"
     ]
    }
   ],
   "source": [
    "X = sm.add_constant(composition_vectors)\n",
    "y = df['rating']\n",
    "\n",
    "model = sm.OLS(y, X).fit()\n",
    "p_values = model.pvalues[1:]\n",
    "\n",
    "alpha = 0.05\n",
    "\n",
    "is_p_value_alpha = [p_value < alpha for p_value in p_values]\n",
    "print('Number of p-values < alpha:', sum(is_p_value_alpha), \"/\", len(is_p_value_alpha))\n",
    "\n",
    "# If at least one p-value is less than alpha, reject H0\n",
    "if any(is_p_value_alpha):\n",
    "    print(\"H0 is rejected: Composition affects the product rating\")\n",
    "else:\n",
    "    print(\"H0 is not rejected: Composition does not affect the product rating\")"
   ]
  },
  {
   "cell_type": "markdown",
   "id": "b73982ea-0c26-4f38-b617-f63118a29a1c",
   "metadata": {},
   "source": [
    "\n",
    "**Step 2** \\\n",
    "Does the protein content depend on whether the product is sold by weight?\n",
    "\n",
    "$$\n",
    "\\begin{aligned}\n",
    "&H_0: \\text{Protein content does not depend on whether the product is sold by weight} \\\\ \n",
    "&H_1: \\text{Protein content depends on whether the product is sold by weight}\n",
    "\\end{aligned}\n",
    "$$\n",
    "\n",
    "We will use a t-test, as the protein values do not follow a normal distribution.\n"
   ]
  },
  {
   "cell_type": "code",
   "execution_count": 54,
   "id": "4d3b4e97-14cc-4ca5-8a72-d65cabaac1f5",
   "metadata": {},
   "outputs": [
    {
     "name": "stdout",
     "output_type": "stream",
     "text": [
      "t-value: 22.91666008518203\n",
      "p-value: 1.7609782281645117e-88\n",
      "H0 is rejected: Protein content depends on whether the product is sold by weight\n"
     ]
    }
   ],
   "source": [
    "proteins_by_weight = df[df['is_by_weight'] == 1]['proteins']\n",
    "proteins_not_by_weight = df[df['is_by_weight'] == 0]['proteins']\n",
    "\n",
    "t_stat, p_value = stats.ttest_ind(proteins_by_weight, proteins_not_by_weight, equal_var=False)\n",
    "\n",
    "print(\"t-value:\", t_stat)\n",
    "print(\"p-value:\", p_value)\n",
    "\n",
    "alpha = 0.05\n",
    "\n",
    "if p_value < alpha:\n",
    "    print(\"H0 is rejected: Protein content depends on whether the product is sold by weight\")\n",
    "else:\n",
    "    print(\"H0 is not rejected: Protein content does not depend on whether the product is sold by weight\")"
   ]
  },
  {
   "cell_type": "markdown",
   "id": "6ed8c64a-b5a8-4198-af09-953c5a9f5c75",
   "metadata": {},
   "source": [
    "\n",
    "**Step 3** \\\n",
    "Does the price depend on the shelf life?\n",
    "\n",
    "$$\n",
    "\\begin{aligned}\n",
    "&H_0: \\text{Price does not depend on shelf life} \\\\ \n",
    "&H_1: \\text{Price depends on shelf life}\n",
    "\\end{aligned}\n",
    "$$\n",
    "\n",
    "Since the data do not follow a normal distribution and contain outliers, we will use Spearman's correlation coefficient.\n"
   ]
  },
  {
   "cell_type": "code",
   "execution_count": 55,
   "id": "ced13aeb-2eb3-4f73-8b9b-a44a688f86c9",
   "metadata": {},
   "outputs": [
    {
     "name": "stdout",
     "output_type": "stream",
     "text": [
      "Spearman's correlation coefficient: 0.29277953461420597\n",
      "p-value: 1.3750757732866646e-243\n",
      "H0 is rejected: Price depends on shelf life.\n"
     ]
    }
   ],
   "source": [
    "corr_test = stats.spearmanr(df['shelf_life'], df['price'])\n",
    "correlation_coefficient = corr_test[0]\n",
    "p_value = corr_test[1]\n",
    "\n",
    "print(\"Spearman's correlation coefficient:\", correlation_coefficient)\n",
    "print(\"p-value:\", p_value)\n",
    "\n",
    "alpha = 0.05\n",
    "if p_value < alpha:\n",
    "    print(\"H0 is rejected: Price depends on shelf life.\")\n",
    "else:\n",
    "    print(\"H0 is not rejected: Price does not depend on shelf life.\")"
   ]
  },
  {
   "cell_type": "markdown",
   "id": "4955170b-8c75-4bde-895c-f04c68e8aef9",
   "metadata": {},
   "source": [
    "\n",
    "**Step 4** \\\n",
    "Are foreign products more expensive?\n",
    "\n",
    "$$\n",
    "\\begin{aligned}\n",
    "&H_0: \\text{Foreign products are not more expensive than local ones} \\\\ \n",
    "&H_1: \\text{Foreign products are more expensive than local ones}\n",
    "\\end{aligned}\n",
    "$$\n",
    "\n",
    "The U-test is more appropriate than the z-test because it does not require normally distributed data and is suitable for data with outliers. \\\n",
    "It is also appropriate for analyzing data with skewed distributions.\n"
   ]
  },
  {
   "cell_type": "code",
   "execution_count": 56,
   "id": "27b39408-a23b-4faa-88a6-338d3f24cccc",
   "metadata": {},
   "outputs": [
    {
     "data": {
      "text/plain": [
       "((2635,), (9527,))"
      ]
     },
     "execution_count": 56,
     "metadata": {},
     "output_type": "execute_result"
    }
   ],
   "source": [
    "not_unk = ~(df['country'] == \"Unknown\")\n",
    "\n",
    "foreign_prices = df[~df['is_local'] & not_unk]['price']\n",
    "local_prices = df[df['is_local'] & not_unk]['price']\n",
    "\n",
    "foreign_prices.shape, local_prices.shape"
   ]
  },
  {
   "cell_type": "code",
   "execution_count": 57,
   "id": "ec11c8f3-5c1a-43b5-957d-a688f703b4b9",
   "metadata": {},
   "outputs": [
    {
     "name": "stdout",
     "output_type": "stream",
     "text": [
      "U-statistic: 18230106.0\n",
      "p-value: 6.681267266258801e-278\n",
      "H0 is rejected: Foreign products are more expensive than local products\n"
     ]
    }
   ],
   "source": [
    "u_stat, p_value = stats.mannwhitneyu(foreign_prices, local_prices, alternative='greater')\n",
    "\n",
    "print(\"U-statistic:\", u_stat)\n",
    "print(\"p-value:\", p_value)\n",
    "\n",
    "alpha = 0.05\n",
    "if p_value < alpha:\n",
    "    print(\"H0 is rejected: Foreign products are more expensive than local products\")\n",
    "else:\n",
    "    print(\"H0 is not rejected: Foreign products are not more expensive than local products\")"
   ]
  },
  {
   "cell_type": "markdown",
   "id": "af401746-2f63-4034-92fa-a6890fc3cafb",
   "metadata": {},
   "source": [
    "\n",
    "**Step 5** \\\n",
    "Is it true that discounts are less common for products with a short shelf life?\n",
    "\n",
    "$$\n",
    "\\begin{aligned}\n",
    "&H_0: \\text{Products with a short shelf life do not receive discounts more frequently than other products} \\\\ \n",
    "&H_1: \\text{Products with a short shelf life receive discounts more frequently than other products}\n",
    "\\end{aligned}\n",
    "$$"
   ]
  },
  {
   "cell_type": "code",
   "execution_count": 58,
   "id": "94f47a9d-a667-4d51-939f-e52f50ecc3eb",
   "metadata": {},
   "outputs": [
    {
     "name": "stdout",
     "output_type": "stream",
     "text": [
      "U-statistic: 17661316.5\n",
      "p-value: 2.3882945670061588e-57\n",
      "H0 is rejected: Discounts are more common for products with a longer shelf life\n"
     ]
    }
   ],
   "source": [
    "discounted = df[df['discount'] > 0]['shelf_life']\n",
    "not_discounted = df[df['discount'] == 0]['shelf_life']\n",
    "\n",
    "u_stat, p_value = stats.mannwhitneyu(discounted, not_discounted, alternative='greater')\n",
    "\n",
    "print(\"U-statistic:\", u_stat)\n",
    "print(\"p-value:\", p_value)\n",
    "\n",
    "alpha = 0.05\n",
    "if p_value < alpha:\n",
    "    print(\"H0 is rejected: Discounts are more common for products with a longer shelf life\")\n",
    "else:\n",
    "    print(\"H0 is not rejected: Discounts are not more common for products with a longer shelf life\")"
   ]
  },
  {
   "cell_type": "markdown",
   "id": "ca621e66-dc4a-4c1d-b522-d53afd35a778",
   "metadata": {},
   "source": [
    "## Machine Learning"
   ]
  },
  {
   "cell_type": "code",
   "execution_count": 63,
   "id": "9c619c0b-3ba7-4ab7-a2de-20c780e86c87",
   "metadata": {},
   "outputs": [],
   "source": [
    "from sklearn.model_selection import train_test_split\n",
    "from sklearn.metrics import mean_squared_error\n",
    "\n",
    "from sklearn.linear_model import LinearRegression\n",
    "from sklearn.ensemble import RandomForestRegressor\n",
    "from catboost import CatBoostRegressor"
   ]
  },
  {
   "cell_type": "markdown",
   "id": "01065f89-f4d3-48a3-b3d0-e05a94d17c60",
   "metadata": {},
   "source": [
    "\n",
    "**Step 1** \\\n",
    "Let's attempt to predict the price of a product based on its characteristics. \\\n",
    "This could be valuable for manufacturers who want to determine the optimal pricing for their products.\n"
   ]
  },
  {
   "cell_type": "code",
   "execution_count": 60,
   "id": "608fc18d-616a-480c-bdff-49b5ee6fb77b",
   "metadata": {},
   "outputs": [],
   "source": [
    "numeric_features = [\n",
    "    \"kalories\",\n",
    "    \"proteins\",\n",
    "    \"fats\",\n",
    "    \"carbohydrates\",\n",
    "    \"rating\",\n",
    "    \"size\",\n",
    "    \"discount\",\n",
    "    \"shelf_life\",\n",
    "    \"max_storage_temperature\",\n",
    "    \"min_storage_temperature\",\n",
    "    \"is_by_weight\",\n",
    "    \"is_special_offer\",\n",
    "    \"storage_temp_range\",\n",
    "    \"protein_to_carb_ratio\",\n",
    "    \"is_low_carb\",\n",
    "    \"kalories_all\",\n",
    "    \"proteins_all\",\n",
    "    \"fats_all\",\n",
    "    \"country_gdp_per_capita\",\n",
    "]\n",
    "\n",
    "one_hot_features = [\"category\", \"subcategory\", \"country\"]\n",
    "\n",
    "target = \"price\"\n",
    "\n",
    "X = df[numeric_features]\n",
    "X = np.concatenate((X, composition_vectors), axis=1)\n",
    "\n",
    "df_one_hot = pd.get_dummies(df[one_hot_features])\n",
    "X = np.concatenate((X, df_one_hot), axis=1)\n",
    "\n",
    "y = df[target]\n",
    "\n",
    "X_train, X_test, y_train, y_test = train_test_split(\n",
    "    X, y, test_size=0.2, random_state=42\n",
    ")"
   ]
  },
  {
   "cell_type": "markdown",
   "id": "e912d278-8a97-4be9-8007-b7f4daa26166",
   "metadata": {},
   "source": [
    "\n",
    "We'll exclude unnecessary columns, such as `name`, as well as categorical columns like `manufacturer` and `brand`, so that new manufacturers can rely solely on the product's features when estimating its price."
   ]
  },
  {
   "cell_type": "markdown",
   "id": "67b2d125-3c37-48ac-aa21-076b3a152b69",
   "metadata": {},
   "source": [
    "**Step 2** \\\n",
    "Train several regression models"
   ]
  },
  {
   "cell_type": "code",
   "execution_count": 135,
   "id": "laden-orange",
   "metadata": {},
   "outputs": [
    {
     "data": {
      "text/plain": [
       "414176.1805955486"
      ]
     },
     "execution_count": 135,
     "metadata": {},
     "output_type": "execute_result"
    }
   ],
   "source": [
    "mse = mean_squared_error(y_test, np.ones(*y_test.shape)*y_train.mean())\n",
    "mse"
   ]
  },
  {
   "cell_type": "code",
   "execution_count": 136,
   "id": "73caec23-889e-4451-ab9e-67186d17df59",
   "metadata": {},
   "outputs": [
    {
     "name": "stdout",
     "output_type": "stream",
     "text": [
      "LinearRegression\n",
      "Mean Squared Error on the test set: 183883.78523744334\n"
     ]
    }
   ],
   "source": [
    "linear_regressor = LinearRegression()\n",
    "linear_regressor.fit(X_train, y_train)\n",
    "\n",
    "predictions = linear_regressor.predict(X_test)\n",
    "mse = mean_squared_error(y_test, predictions)\n",
    "\n",
    "print(\"LinearRegression\")\n",
    "print(\"Mean Squared Error on the test set:\", mse)"
   ]
  },
  {
   "cell_type": "code",
   "execution_count": 137,
   "id": "0ed37a31-bd20-4c01-92ed-25567a8f5306",
   "metadata": {},
   "outputs": [
    {
     "name": "stdout",
     "output_type": "stream",
     "text": [
      "RandomForestRegressor\n",
      "Mean Squared Error on the test set: 91507.40143560161\n"
     ]
    }
   ],
   "source": [
    "rf_regressor = RandomForestRegressor(random_state=42)\n",
    "rf_regressor.fit(X_train, y_train)\n",
    "\n",
    "predictions = rf_regressor.predict(X_test)\n",
    "mse = mean_squared_error(y_test, predictions)\n",
    "\n",
    "print(\"RandomForestRegressor\")\n",
    "print(\"Mean Squared Error on the test set:\", mse)"
   ]
  },
  {
   "cell_type": "code",
   "execution_count": 88,
   "id": "1273f29f",
   "metadata": {},
   "outputs": [
    {
     "name": "stdout",
     "output_type": "stream",
     "text": [
      "0:\tlearn: 586.4159116\ttest: 618.2521698\tbest: 618.2521698 (0)\ttotal: 23.8ms\tremaining: 35.6s\n",
      "100:\tlearn: 291.1621764\ttest: 336.4117748\tbest: 336.4117748 (100)\ttotal: 2.33s\tremaining: 32.3s\n",
      "200:\tlearn: 239.3763982\ttest: 304.8703142\tbest: 304.8703142 (200)\ttotal: 4.95s\tremaining: 32s\n",
      "300:\tlearn: 209.0084578\ttest: 293.2128679\tbest: 293.2128679 (300)\ttotal: 7.5s\tremaining: 29.9s\n",
      "400:\tlearn: 187.6145073\ttest: 287.4890499\tbest: 287.4890499 (400)\ttotal: 10s\tremaining: 27.4s\n",
      "500:\tlearn: 171.8964420\ttest: 284.6834795\tbest: 284.5647746 (492)\ttotal: 13.3s\tremaining: 26.4s\n",
      "600:\tlearn: 158.0854583\ttest: 282.0968266\tbest: 282.0968266 (600)\ttotal: 16s\tremaining: 23.9s\n",
      "700:\tlearn: 147.8478513\ttest: 279.4788586\tbest: 279.4664439 (698)\ttotal: 19.5s\tremaining: 22.2s\n",
      "800:\tlearn: 138.9868339\ttest: 278.2068789\tbest: 278.2068789 (800)\ttotal: 22.7s\tremaining: 19.8s\n",
      "900:\tlearn: 131.0386599\ttest: 277.6095099\tbest: 277.5705582 (899)\ttotal: 26.6s\tremaining: 17.7s\n",
      "1000:\tlearn: 124.4699362\ttest: 276.8009788\tbest: 276.8009788 (1000)\ttotal: 30.8s\tremaining: 15.4s\n",
      "1100:\tlearn: 117.9248554\ttest: 276.1152791\tbest: 276.0534782 (1081)\ttotal: 34.6s\tremaining: 12.5s\n",
      "1200:\tlearn: 112.6640770\ttest: 275.0255534\tbest: 275.0255534 (1200)\ttotal: 38.7s\tremaining: 9.63s\n",
      "1300:\tlearn: 106.9683436\ttest: 274.5155194\tbest: 274.3146588 (1273)\ttotal: 42.5s\tremaining: 6.5s\n",
      "Stopped by overfitting detector  (50 iterations wait)\n",
      "\n",
      "bestTest = 274.3146588\n",
      "bestIteration = 1273\n",
      "\n",
      "Shrink model to first 1274 iterations.\n",
      "CatBoostRegressor Mean Squared Error (MSE): 75248.53211008414\n",
      "CatBoostRegressor Root Mean Squared Error (RMSE): 274.3146589413044\n"
     ]
    }
   ],
   "source": [
    "catboost_regressor = CatBoostRegressor(\n",
    "    iterations=1500,           \n",
    "    learning_rate=0.1,         \n",
    "    depth=6,                   \n",
    "    loss_function='RMSE',      \n",
    "    cat_features=one_hot_features, \n",
    "    random_seed=42,                \n",
    "    verbose=100,                   \n",
    "    early_stopping_rounds=50,      \n",
    ")\n",
    "\n",
    "X = df[numeric_features + one_hot_features] \n",
    "composition_vectors_df = pd.DataFrame(composition_vectors, index=X.index)\n",
    "X = pd.concat([X, composition_vectors_df], axis=1)\n",
    "y = df['price']\n",
    "\n",
    "X_train, X_test, y_train, y_test = train_test_split(X, y, test_size=0.2, random_state=42)\n",
    "\n",
    "catboost_regressor.fit(X_train, y_train, eval_set=(X_test, y_test), early_stopping_rounds=50)\n",
    "\n",
    "predictions = catboost_regressor.predict(X_test)\n",
    "mse = mean_squared_error(y_test, predictions)\n",
    "\n",
    "rmse = np.sqrt(mse)\n",
    "\n",
    "print(\"CatBoostRegressor Mean Squared Error (MSE):\", mse)\n",
    "print(\"CatBoostRegressor Root Mean Squared Error (RMSE):\", rmse)"
   ]
  },
  {
   "cell_type": "markdown",
   "id": "886c5c82-2afe-4267-938c-5fe12602f783",
   "metadata": {},
   "source": [
    "**Conclusion** \\\n",
    "The CatBoost model achieved the best MSE result"
   ]
  },
  {
   "cell_type": "code",
   "execution_count": 86,
   "id": "e7f29e44-5868-4afc-a3bf-5e5542b9e47a",
   "metadata": {},
   "outputs": [
    {
     "data": {
      "text/html": [
       "<div>\n",
       "<style scoped>\n",
       "    .dataframe tbody tr th:only-of-type {\n",
       "        vertical-align: middle;\n",
       "    }\n",
       "\n",
       "    .dataframe tbody tr th {\n",
       "        vertical-align: top;\n",
       "    }\n",
       "\n",
       "    .dataframe thead th {\n",
       "        text-align: right;\n",
       "    }\n",
       "</style>\n",
       "<table border=\"1\" class=\"dataframe\">\n",
       "  <thead>\n",
       "    <tr style=\"text-align: right;\">\n",
       "      <th></th>\n",
       "      <th>Name</th>\n",
       "      <th>Actual Price</th>\n",
       "      <th>Prediction</th>\n",
       "    </tr>\n",
       "  </thead>\n",
       "  <tbody>\n",
       "    <tr>\n",
       "      <th>2316</th>\n",
       "      <td>Мёд Медовый Дом Крымские травы цветочный натур...</td>\n",
       "      <td>359.99</td>\n",
       "      <td>309.318811</td>\n",
       "    </tr>\n",
       "    <tr>\n",
       "      <th>1121</th>\n",
       "      <td>Горбуша натуральная Пр!ст, 250г</td>\n",
       "      <td>134.99</td>\n",
       "      <td>231.878853</td>\n",
       "    </tr>\n",
       "    <tr>\n",
       "      <th>4560</th>\n",
       "      <td>Масло сладкосливочное Традиционное несолёное 8...</td>\n",
       "      <td>219.99</td>\n",
       "      <td>213.236471</td>\n",
       "    </tr>\n",
       "    <tr>\n",
       "      <th>11539</th>\n",
       "      <td>Бренди Torres Гран Ресерва 10 38% в подарочной...</td>\n",
       "      <td>1849.00</td>\n",
       "      <td>2039.388633</td>\n",
       "    </tr>\n",
       "    <tr>\n",
       "      <th>8664</th>\n",
       "      <td>Хлеб Рижский Хлеб Ремесленный заварной из пшен...</td>\n",
       "      <td>91.99</td>\n",
       "      <td>80.772532</td>\n",
       "    </tr>\n",
       "    <tr>\n",
       "      <th>5553</th>\n",
       "      <td>Питахайя крупная</td>\n",
       "      <td>479.99</td>\n",
       "      <td>210.938494</td>\n",
       "    </tr>\n",
       "    <tr>\n",
       "      <th>7590</th>\n",
       "      <td>Продукт растительный Kara Coconut Milk на осно...</td>\n",
       "      <td>99.99</td>\n",
       "      <td>114.441936</td>\n",
       "    </tr>\n",
       "    <tr>\n",
       "      <th>7953</th>\n",
       "      <td>Маринад Костровок Идея на закуску для приготов...</td>\n",
       "      <td>75.99</td>\n",
       "      <td>111.534415</td>\n",
       "    </tr>\n",
       "    <tr>\n",
       "      <th>2417</th>\n",
       "      <td>Десерт Philosophia de Natura Яблочная карамель...</td>\n",
       "      <td>159.99</td>\n",
       "      <td>191.998437</td>\n",
       "    </tr>\n",
       "    <tr>\n",
       "      <th>12065</th>\n",
       "      <td>Шоколад горький Лакомства для Здоровья с женьш...</td>\n",
       "      <td>259.99</td>\n",
       "      <td>208.955947</td>\n",
       "    </tr>\n",
       "  </tbody>\n",
       "</table>\n",
       "</div>"
      ],
      "text/plain": [
       "                                                    Name  Actual Price  \\\n",
       "2316   Мёд Медовый Дом Крымские травы цветочный натур...        359.99   \n",
       "1121                     Горбуша натуральная Пр!ст, 250г        134.99   \n",
       "4560   Масло сладкосливочное Традиционное несолёное 8...        219.99   \n",
       "11539  Бренди Torres Гран Ресерва 10 38% в подарочной...       1849.00   \n",
       "8664   Хлеб Рижский Хлеб Ремесленный заварной из пшен...         91.99   \n",
       "5553                                    Питахайя крупная        479.99   \n",
       "7590   Продукт растительный Kara Coconut Milk на осно...         99.99   \n",
       "7953   Маринад Костровок Идея на закуску для приготов...         75.99   \n",
       "2417   Десерт Philosophia de Natura Яблочная карамель...        159.99   \n",
       "12065  Шоколад горький Лакомства для Здоровья с женьш...        259.99   \n",
       "\n",
       "        Prediction  \n",
       "2316    309.318811  \n",
       "1121    231.878853  \n",
       "4560    213.236471  \n",
       "11539  2039.388633  \n",
       "8664     80.772532  \n",
       "5553    210.938494  \n",
       "7590    114.441936  \n",
       "7953    111.534415  \n",
       "2417    191.998437  \n",
       "12065   208.955947  "
      ]
     },
     "execution_count": 86,
     "metadata": {},
     "output_type": "execute_result"
    }
   ],
   "source": [
    "_, X_test, _, _ = train_test_split(\n",
    "    df[['name', 'price']], y, test_size=0.2, random_state=42\n",
    ")\n",
    "df_comparison = pd.DataFrame({'Name': X_test['name'], 'Actual Price': X_test['price'], 'Prediction': predictions})\n",
    "df_comparison.head(10)"
   ]
  },
  {
   "cell_type": "code",
   "execution_count": 87,
   "id": "transsexual-luxury",
   "metadata": {},
   "outputs": [
    {
     "data": {
      "text/html": [
       "<div>\n",
       "<style scoped>\n",
       "    .dataframe tbody tr th:only-of-type {\n",
       "        vertical-align: middle;\n",
       "    }\n",
       "\n",
       "    .dataframe tbody tr th {\n",
       "        vertical-align: top;\n",
       "    }\n",
       "\n",
       "    .dataframe thead th {\n",
       "        text-align: right;\n",
       "    }\n",
       "</style>\n",
       "<table border=\"1\" class=\"dataframe\">\n",
       "  <thead>\n",
       "    <tr style=\"text-align: right;\">\n",
       "      <th></th>\n",
       "      <th>Name</th>\n",
       "      <th>Actual Price</th>\n",
       "      <th>Prediction</th>\n",
       "      <th>Difference</th>\n",
       "    </tr>\n",
       "  </thead>\n",
       "  <tbody>\n",
       "    <tr>\n",
       "      <th>5369</th>\n",
       "      <td>Виски Aberfeldy 12-летний шотландский солодовы...</td>\n",
       "      <td>7199.00</td>\n",
       "      <td>3052.144874</td>\n",
       "      <td>4146.855126</td>\n",
       "    </tr>\n",
       "    <tr>\n",
       "      <th>11442</th>\n",
       "      <td>Граппа Nonino Вендеммиа ризерва ди анната ин б...</td>\n",
       "      <td>4999.00</td>\n",
       "      <td>1875.536914</td>\n",
       "      <td>3123.463086</td>\n",
       "    </tr>\n",
       "    <tr>\n",
       "      <th>4238</th>\n",
       "      <td>Коньяк Courvoisier VSOP 40% в подарочной упако...</td>\n",
       "      <td>6699.00</td>\n",
       "      <td>4138.178325</td>\n",
       "      <td>2560.821675</td>\n",
       "    </tr>\n",
       "    <tr>\n",
       "      <th>11511</th>\n",
       "      <td>Джин Peddlers Shanghai Craft 45.7%, 700мл</td>\n",
       "      <td>3499.00</td>\n",
       "      <td>1304.627239</td>\n",
       "      <td>2194.372761</td>\n",
       "    </tr>\n",
       "    <tr>\n",
       "      <th>5284</th>\n",
       "      <td>Виски Johnnie Walker Red Label купажированный ...</td>\n",
       "      <td>2199.00</td>\n",
       "      <td>4378.715892</td>\n",
       "      <td>2179.715892</td>\n",
       "    </tr>\n",
       "    <tr>\n",
       "      <th>1669</th>\n",
       "      <td>Вино игристое Pommery Brut Royal белое брют, 1.5л</td>\n",
       "      <td>9999.00</td>\n",
       "      <td>8067.572305</td>\n",
       "      <td>1931.427695</td>\n",
       "    </tr>\n",
       "    <tr>\n",
       "      <th>3721</th>\n",
       "      <td>Сыр Margot Fromages Альпаж Гран Резерв 49%</td>\n",
       "      <td>3799.00</td>\n",
       "      <td>1923.471415</td>\n",
       "      <td>1875.528585</td>\n",
       "    </tr>\n",
       "    <tr>\n",
       "      <th>1454</th>\n",
       "      <td>Вино игристое L'Authentique Premier Cru белое ...</td>\n",
       "      <td>9999.00</td>\n",
       "      <td>8127.061942</td>\n",
       "      <td>1871.938058</td>\n",
       "    </tr>\n",
       "    <tr>\n",
       "      <th>4972</th>\n",
       "      <td>Икра Астраханская Икра белуги гибрид зернистая...</td>\n",
       "      <td>3899.00</td>\n",
       "      <td>2037.465156</td>\n",
       "      <td>1861.534844</td>\n",
       "    </tr>\n",
       "    <tr>\n",
       "      <th>5993</th>\n",
       "      <td>Ром Captain Morgan Dark невыдержанный, 0.7л</td>\n",
       "      <td>1799.00</td>\n",
       "      <td>3651.278575</td>\n",
       "      <td>1852.278575</td>\n",
       "    </tr>\n",
       "    <tr>\n",
       "      <th>11525</th>\n",
       "      <td>Джин Mankai 43%, 700мл</td>\n",
       "      <td>2999.00</td>\n",
       "      <td>1154.221087</td>\n",
       "      <td>1844.778913</td>\n",
       "    </tr>\n",
       "    <tr>\n",
       "      <th>9554</th>\n",
       "      <td>Печенье Happy Days сдобное в ассортименте, 150г</td>\n",
       "      <td>419.99</td>\n",
       "      <td>2252.468685</td>\n",
       "      <td>1832.478685</td>\n",
       "    </tr>\n",
       "    <tr>\n",
       "      <th>4610</th>\n",
       "      <td>Коньяк Старый Кенигсберг XO, 500мл</td>\n",
       "      <td>2499.00</td>\n",
       "      <td>684.015711</td>\n",
       "      <td>1814.984289</td>\n",
       "    </tr>\n",
       "    <tr>\n",
       "      <th>259</th>\n",
       "      <td>Колбаса Пикантная Халяль сырокопченая категории Б</td>\n",
       "      <td>144.90</td>\n",
       "      <td>1893.802136</td>\n",
       "      <td>1748.902136</td>\n",
       "    </tr>\n",
       "    <tr>\n",
       "      <th>883</th>\n",
       "      <td>Вино Matsu El Recio Toro DO красное сухое 14.5...</td>\n",
       "      <td>2399.00</td>\n",
       "      <td>800.353658</td>\n",
       "      <td>1598.646342</td>\n",
       "    </tr>\n",
       "    <tr>\n",
       "      <th>9003</th>\n",
       "      <td>Пиво Prazacka Чешское классическое светлое 4%, 5л</td>\n",
       "      <td>1899.00</td>\n",
       "      <td>331.352546</td>\n",
       "      <td>1567.647454</td>\n",
       "    </tr>\n",
       "    <tr>\n",
       "      <th>1408</th>\n",
       "      <td>Вино R de Ruinart Brut белое брют 12%, 750мл</td>\n",
       "      <td>9999.00</td>\n",
       "      <td>8472.185045</td>\n",
       "      <td>1526.814955</td>\n",
       "    </tr>\n",
       "    <tr>\n",
       "      <th>1670</th>\n",
       "      <td>Вино игристое Рояль Розе белое брют 12.5%, 750мл</td>\n",
       "      <td>7499.00</td>\n",
       "      <td>6052.073537</td>\n",
       "      <td>1446.926463</td>\n",
       "    </tr>\n",
       "    <tr>\n",
       "      <th>5511</th>\n",
       "      <td>Виски Greign шотландский зерновой 20 лет выдер...</td>\n",
       "      <td>3499.00</td>\n",
       "      <td>2072.071547</td>\n",
       "      <td>1426.928453</td>\n",
       "    </tr>\n",
       "    <tr>\n",
       "      <th>12392</th>\n",
       "      <td>Вино Maremel Albarino белое полусухое 12.5%, 7...</td>\n",
       "      <td>2749.00</td>\n",
       "      <td>1329.686297</td>\n",
       "      <td>1419.313703</td>\n",
       "    </tr>\n",
       "    <tr>\n",
       "      <th>2655</th>\n",
       "      <td>Вино игристое Pierre Trichet La Puissance Blan...</td>\n",
       "      <td>4499.00</td>\n",
       "      <td>3137.618853</td>\n",
       "      <td>1361.381147</td>\n",
       "    </tr>\n",
       "    <tr>\n",
       "      <th>333</th>\n",
       "      <td>Колбаса Solemici Salame Classico Салями Класси...</td>\n",
       "      <td>3199.00</td>\n",
       "      <td>1855.244845</td>\n",
       "      <td>1343.755155</td>\n",
       "    </tr>\n",
       "    <tr>\n",
       "      <th>9447</th>\n",
       "      <td>Вино Cellier Des Dauphins Reserve красное сухо...</td>\n",
       "      <td>1299.00</td>\n",
       "      <td>2588.324689</td>\n",
       "      <td>1289.324689</td>\n",
       "    </tr>\n",
       "    <tr>\n",
       "      <th>4607</th>\n",
       "      <td>Коньяк Francois de Martignac VS в подарочной у...</td>\n",
       "      <td>3999.00</td>\n",
       "      <td>5284.671418</td>\n",
       "      <td>1285.671418</td>\n",
       "    </tr>\n",
       "    <tr>\n",
       "      <th>5118</th>\n",
       "      <td>Виски Hatozaki Японский купажированный 40%, 700мл</td>\n",
       "      <td>3999.00</td>\n",
       "      <td>2719.355473</td>\n",
       "      <td>1279.644527</td>\n",
       "    </tr>\n",
       "    <tr>\n",
       "      <th>3708</th>\n",
       "      <td>Сыр твёрдый Durr 3 50%</td>\n",
       "      <td>159.90</td>\n",
       "      <td>1406.667085</td>\n",
       "      <td>1246.767085</td>\n",
       "    </tr>\n",
       "    <tr>\n",
       "      <th>10471</th>\n",
       "      <td>Мини-пралине Счастье Ассорти коллекция, 305г</td>\n",
       "      <td>1599.00</td>\n",
       "      <td>385.377551</td>\n",
       "      <td>1213.622449</td>\n",
       "    </tr>\n",
       "    <tr>\n",
       "      <th>11505</th>\n",
       "      <td>Джин Cruxland 43%, 750мл</td>\n",
       "      <td>3399.00</td>\n",
       "      <td>2186.388251</td>\n",
       "      <td>1212.611749</td>\n",
       "    </tr>\n",
       "    <tr>\n",
       "      <th>5286</th>\n",
       "      <td>Виски Tullamore DEW 40%, 700мл</td>\n",
       "      <td>2499.00</td>\n",
       "      <td>3691.368107</td>\n",
       "      <td>1192.368107</td>\n",
       "    </tr>\n",
       "    <tr>\n",
       "      <th>6874</th>\n",
       "      <td>Форель Kala Ranta радужная горячего копчения к...</td>\n",
       "      <td>1849.00</td>\n",
       "      <td>683.554203</td>\n",
       "      <td>1165.445797</td>\n",
       "    </tr>\n",
       "    <tr>\n",
       "      <th>11497</th>\n",
       "      <td>Джин South Bank London dry 37.5%, 700мл</td>\n",
       "      <td>1449.00</td>\n",
       "      <td>2604.088355</td>\n",
       "      <td>1155.088355</td>\n",
       "    </tr>\n",
       "    <tr>\n",
       "      <th>5025</th>\n",
       "      <td>Краб Новая Аляска камчатский в собственном сок...</td>\n",
       "      <td>2699.00</td>\n",
       "      <td>3846.354629</td>\n",
       "      <td>1147.354629</td>\n",
       "    </tr>\n",
       "    <tr>\n",
       "      <th>11409</th>\n",
       "      <td>Вино Reserve del Puech AOC красное сухое 13,5%...</td>\n",
       "      <td>1199.00</td>\n",
       "      <td>2327.784350</td>\n",
       "      <td>1128.784350</td>\n",
       "    </tr>\n",
       "    <tr>\n",
       "      <th>6913</th>\n",
       "      <td>Вино Вина Тавадзе Хванчкара красное полусладко...</td>\n",
       "      <td>1999.00</td>\n",
       "      <td>898.557274</td>\n",
       "      <td>1100.442726</td>\n",
       "    </tr>\n",
       "    <tr>\n",
       "      <th>3694</th>\n",
       "      <td>Сыр Schonfeld Grana твёрдый 43%</td>\n",
       "      <td>214.99</td>\n",
       "      <td>1301.896125</td>\n",
       "      <td>1086.906125</td>\n",
       "    </tr>\n",
       "    <tr>\n",
       "      <th>6922</th>\n",
       "      <td>Набор Рыбка Моей Мечты пивной вяленый, 200г</td>\n",
       "      <td>124.99</td>\n",
       "      <td>1211.229351</td>\n",
       "      <td>1086.239351</td>\n",
       "    </tr>\n",
       "    <tr>\n",
       "      <th>7923</th>\n",
       "      <td>Вино Тайна Колхиды Хванчкара красное полусладк...</td>\n",
       "      <td>1999.00</td>\n",
       "      <td>928.469468</td>\n",
       "      <td>1070.530532</td>\n",
       "    </tr>\n",
       "    <tr>\n",
       "      <th>12316</th>\n",
       "      <td>Вино J.P. Chenet Делишес Медиум Свит белое пол...</td>\n",
       "      <td>1199.00</td>\n",
       "      <td>2262.735684</td>\n",
       "      <td>1063.735684</td>\n",
       "    </tr>\n",
       "    <tr>\n",
       "      <th>217</th>\n",
       "      <td>Колбаса сырокопчёная Ближние Горки Тоскана кат...</td>\n",
       "      <td>99.99</td>\n",
       "      <td>1137.045829</td>\n",
       "      <td>1037.055829</td>\n",
       "    </tr>\n",
       "    <tr>\n",
       "      <th>6878</th>\n",
       "      <td>Водка Бари луйс Кизиловая 40%, 500мл</td>\n",
       "      <td>569.99</td>\n",
       "      <td>1601.896244</td>\n",
       "      <td>1031.906244</td>\n",
       "    </tr>\n",
       "    <tr>\n",
       "      <th>1418</th>\n",
       "      <td>Кофе Barbera Classica натуральный жареный в зё...</td>\n",
       "      <td>4299.00</td>\n",
       "      <td>3307.825446</td>\n",
       "      <td>991.174554</td>\n",
       "    </tr>\n",
       "    <tr>\n",
       "      <th>6020</th>\n",
       "      <td>Ром Барсело Дорадо 37.5%, 700мл + стакан</td>\n",
       "      <td>1399.00</td>\n",
       "      <td>2366.970347</td>\n",
       "      <td>967.970347</td>\n",
       "    </tr>\n",
       "    <tr>\n",
       "      <th>315</th>\n",
       "      <td>Колбаса сыровяленая Казылык сухая Зелёная Линия,</td>\n",
       "      <td>2399.00</td>\n",
       "      <td>1433.028602</td>\n",
       "      <td>965.971398</td>\n",
       "    </tr>\n",
       "    <tr>\n",
       "      <th>5424</th>\n",
       "      <td>Виски Hatozaki Пью Молт солодовый 46%, 700мл</td>\n",
       "      <td>4459.00</td>\n",
       "      <td>3523.664145</td>\n",
       "      <td>935.335855</td>\n",
       "    </tr>\n",
       "    <tr>\n",
       "      <th>5549</th>\n",
       "      <td>Виски Label 5 Bourbon Barrel шотландский зерно...</td>\n",
       "      <td>1149.00</td>\n",
       "      <td>2083.581859</td>\n",
       "      <td>934.581859</td>\n",
       "    </tr>\n",
       "    <tr>\n",
       "      <th>5707</th>\n",
       "      <td>Спиртной напиток Dead Mans Fingers  на основе ...</td>\n",
       "      <td>1899.00</td>\n",
       "      <td>2832.773100</td>\n",
       "      <td>933.773100</td>\n",
       "    </tr>\n",
       "    <tr>\n",
       "      <th>1393</th>\n",
       "      <td>Кофе в зернах натуральный жареный Маркет Colle...</td>\n",
       "      <td>1799.00</td>\n",
       "      <td>866.166359</td>\n",
       "      <td>932.833641</td>\n",
       "    </tr>\n",
       "    <tr>\n",
       "      <th>251</th>\n",
       "      <td>Колбаса сырокопчёная Брауншвейгская полусухая ...</td>\n",
       "      <td>1799.00</td>\n",
       "      <td>876.541532</td>\n",
       "      <td>922.458468</td>\n",
       "    </tr>\n",
       "    <tr>\n",
       "      <th>5756</th>\n",
       "      <td>Виски Bushmills Original подарочная упаковка с...</td>\n",
       "      <td>2399.00</td>\n",
       "      <td>3312.679589</td>\n",
       "      <td>913.679589</td>\n",
       "    </tr>\n",
       "    <tr>\n",
       "      <th>5306</th>\n",
       "      <td>Буженина Окраина запеченная категории Б</td>\n",
       "      <td>1499.90</td>\n",
       "      <td>612.814134</td>\n",
       "      <td>887.085866</td>\n",
       "    </tr>\n",
       "  </tbody>\n",
       "</table>\n",
       "</div>"
      ],
      "text/plain": [
       "                                                    Name  Actual Price  \\\n",
       "5369   Виски Aberfeldy 12-летний шотландский солодовы...       7199.00   \n",
       "11442  Граппа Nonino Вендеммиа ризерва ди анната ин б...       4999.00   \n",
       "4238   Коньяк Courvoisier VSOP 40% в подарочной упако...       6699.00   \n",
       "11511          Джин Peddlers Shanghai Craft 45.7%, 700мл       3499.00   \n",
       "5284   Виски Johnnie Walker Red Label купажированный ...       2199.00   \n",
       "1669   Вино игристое Pommery Brut Royal белое брют, 1.5л       9999.00   \n",
       "3721          Сыр Margot Fromages Альпаж Гран Резерв 49%       3799.00   \n",
       "1454   Вино игристое L'Authentique Premier Cru белое ...       9999.00   \n",
       "4972   Икра Астраханская Икра белуги гибрид зернистая...       3899.00   \n",
       "5993         Ром Captain Morgan Dark невыдержанный, 0.7л       1799.00   \n",
       "11525                             Джин Mankai 43%, 700мл       2999.00   \n",
       "9554     Печенье Happy Days сдобное в ассортименте, 150г        419.99   \n",
       "4610                  Коньяк Старый Кенигсберг XO, 500мл       2499.00   \n",
       "259    Колбаса Пикантная Халяль сырокопченая категории Б        144.90   \n",
       "883    Вино Matsu El Recio Toro DO красное сухое 14.5...       2399.00   \n",
       "9003   Пиво Prazacka Чешское классическое светлое 4%, 5л       1899.00   \n",
       "1408        Вино R de Ruinart Brut белое брют 12%, 750мл       9999.00   \n",
       "1670    Вино игристое Рояль Розе белое брют 12.5%, 750мл       7499.00   \n",
       "5511   Виски Greign шотландский зерновой 20 лет выдер...       3499.00   \n",
       "12392  Вино Maremel Albarino белое полусухое 12.5%, 7...       2749.00   \n",
       "2655   Вино игристое Pierre Trichet La Puissance Blan...       4499.00   \n",
       "333    Колбаса Solemici Salame Classico Салями Класси...       3199.00   \n",
       "9447   Вино Cellier Des Dauphins Reserve красное сухо...       1299.00   \n",
       "4607   Коньяк Francois de Martignac VS в подарочной у...       3999.00   \n",
       "5118   Виски Hatozaki Японский купажированный 40%, 700мл       3999.00   \n",
       "3708                              Сыр твёрдый Durr 3 50%        159.90   \n",
       "10471       Мини-пралине Счастье Ассорти коллекция, 305г       1599.00   \n",
       "11505                           Джин Cruxland 43%, 750мл       3399.00   \n",
       "5286                      Виски Tullamore DEW 40%, 700мл       2499.00   \n",
       "6874   Форель Kala Ranta радужная горячего копчения к...       1849.00   \n",
       "11497            Джин South Bank London dry 37.5%, 700мл       1449.00   \n",
       "5025   Краб Новая Аляска камчатский в собственном сок...       2699.00   \n",
       "11409  Вино Reserve del Puech AOC красное сухое 13,5%...       1199.00   \n",
       "6913   Вино Вина Тавадзе Хванчкара красное полусладко...       1999.00   \n",
       "3694                     Сыр Schonfeld Grana твёрдый 43%        214.99   \n",
       "6922         Набор Рыбка Моей Мечты пивной вяленый, 200г        124.99   \n",
       "7923   Вино Тайна Колхиды Хванчкара красное полусладк...       1999.00   \n",
       "12316  Вино J.P. Chenet Делишес Медиум Свит белое пол...       1199.00   \n",
       "217    Колбаса сырокопчёная Ближние Горки Тоскана кат...         99.99   \n",
       "6878                Водка Бари луйс Кизиловая 40%, 500мл        569.99   \n",
       "1418   Кофе Barbera Classica натуральный жареный в зё...       4299.00   \n",
       "6020            Ром Барсело Дорадо 37.5%, 700мл + стакан       1399.00   \n",
       "315     Колбаса сыровяленая Казылык сухая Зелёная Линия,       2399.00   \n",
       "5424        Виски Hatozaki Пью Молт солодовый 46%, 700мл       4459.00   \n",
       "5549   Виски Label 5 Bourbon Barrel шотландский зерно...       1149.00   \n",
       "5707   Спиртной напиток Dead Mans Fingers  на основе ...       1899.00   \n",
       "1393   Кофе в зернах натуральный жареный Маркет Colle...       1799.00   \n",
       "251    Колбаса сырокопчёная Брауншвейгская полусухая ...       1799.00   \n",
       "5756   Виски Bushmills Original подарочная упаковка с...       2399.00   \n",
       "5306             Буженина Окраина запеченная категории Б       1499.90   \n",
       "\n",
       "        Prediction   Difference  \n",
       "5369   3052.144874  4146.855126  \n",
       "11442  1875.536914  3123.463086  \n",
       "4238   4138.178325  2560.821675  \n",
       "11511  1304.627239  2194.372761  \n",
       "5284   4378.715892  2179.715892  \n",
       "1669   8067.572305  1931.427695  \n",
       "3721   1923.471415  1875.528585  \n",
       "1454   8127.061942  1871.938058  \n",
       "4972   2037.465156  1861.534844  \n",
       "5993   3651.278575  1852.278575  \n",
       "11525  1154.221087  1844.778913  \n",
       "9554   2252.468685  1832.478685  \n",
       "4610    684.015711  1814.984289  \n",
       "259    1893.802136  1748.902136  \n",
       "883     800.353658  1598.646342  \n",
       "9003    331.352546  1567.647454  \n",
       "1408   8472.185045  1526.814955  \n",
       "1670   6052.073537  1446.926463  \n",
       "5511   2072.071547  1426.928453  \n",
       "12392  1329.686297  1419.313703  \n",
       "2655   3137.618853  1361.381147  \n",
       "333    1855.244845  1343.755155  \n",
       "9447   2588.324689  1289.324689  \n",
       "4607   5284.671418  1285.671418  \n",
       "5118   2719.355473  1279.644527  \n",
       "3708   1406.667085  1246.767085  \n",
       "10471   385.377551  1213.622449  \n",
       "11505  2186.388251  1212.611749  \n",
       "5286   3691.368107  1192.368107  \n",
       "6874    683.554203  1165.445797  \n",
       "11497  2604.088355  1155.088355  \n",
       "5025   3846.354629  1147.354629  \n",
       "11409  2327.784350  1128.784350  \n",
       "6913    898.557274  1100.442726  \n",
       "3694   1301.896125  1086.906125  \n",
       "6922   1211.229351  1086.239351  \n",
       "7923    928.469468  1070.530532  \n",
       "12316  2262.735684  1063.735684  \n",
       "217    1137.045829  1037.055829  \n",
       "6878   1601.896244  1031.906244  \n",
       "1418   3307.825446   991.174554  \n",
       "6020   2366.970347   967.970347  \n",
       "315    1433.028602   965.971398  \n",
       "5424   3523.664145   935.335855  \n",
       "5549   2083.581859   934.581859  \n",
       "5707   2832.773100   933.773100  \n",
       "1393    866.166359   932.833641  \n",
       "251     876.541532   922.458468  \n",
       "5756   3312.679589   913.679589  \n",
       "5306    612.814134   887.085866  "
      ]
     },
     "execution_count": 87,
     "metadata": {},
     "output_type": "execute_result"
    }
   ],
   "source": [
    "df_comparison['Difference'] = abs(df_comparison['Actual Price'] - df_comparison['Prediction'])\n",
    "\n",
    "df_comparison_sorted = df_comparison.sort_values(by='Difference', ascending=False)\n",
    "\n",
    "df_comparison_sorted.head(50)"
   ]
  },
  {
   "cell_type": "code",
   "execution_count": null,
   "id": "respected-pipeline",
   "metadata": {},
   "outputs": [],
   "source": []
  }
 ],
 "metadata": {
  "kernelspec": {
   "display_name": "Python 3",
   "language": "python",
   "name": "python3"
  },
  "language_info": {
   "codemirror_mode": {
    "name": "ipython",
    "version": 3
   },
   "file_extension": ".py",
   "mimetype": "text/x-python",
   "name": "python",
   "nbconvert_exporter": "python",
   "pygments_lexer": "ipython3",
   "version": "3.9.7"
  }
 },
 "nbformat": 4,
 "nbformat_minor": 5
}
